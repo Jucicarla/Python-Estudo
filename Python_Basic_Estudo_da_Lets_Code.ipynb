{
  "cells": [
    {
      "cell_type": "markdown",
      "metadata": {
        "id": "view-in-github",
        "colab_type": "text"
      },
      "source": [
        "<a href=\"https://colab.research.google.com/github/Jucicarla/Python-Estudo/blob/main/Python_Basic_Estudo_da_Lets_Code.ipynb\" target=\"_parent\"><img src=\"https://colab.research.google.com/assets/colab-badge.svg\" alt=\"Open In Colab\"/></a>"
      ]
    },
    {
      "cell_type": "markdown",
      "id": "182a0d89",
      "metadata": {
        "id": "182a0d89"
      },
      "source": [
        "# Python Basic - Estudo da Lets Code"
      ]
    },
    {
      "cell_type": "code",
      "execution_count": null,
      "id": "13cd39ef",
      "metadata": {
        "id": "13cd39ef",
        "outputId": "83e5242f-16d8-474c-c924-afd062f2d44d"
      },
      "outputs": [
        {
          "name": "stdout",
          "output_type": "stream",
          "text": [
            "Hello world\n"
          ]
        }
      ],
      "source": [
        "print(\"Hello world\")"
      ]
    },
    {
      "cell_type": "markdown",
      "id": "fa64cef2",
      "metadata": {
        "id": "fa64cef2"
      },
      "source": [
        "# Aula 2 - variaveis"
      ]
    },
    {
      "cell_type": "code",
      "execution_count": null,
      "id": "5a7841fa",
      "metadata": {
        "id": "5a7841fa"
      },
      "outputs": [],
      "source": [
        "#variaveis\n",
        "x=5\n",
        "y=2\n",
        "\n",
        "soma = x+y\n",
        "print(\"Soma\", soma)"
      ]
    },
    {
      "cell_type": "markdown",
      "id": "21c1076e",
      "metadata": {
        "id": "21c1076e"
      },
      "source": [
        "# Aula 3 - Tipos de Variaveis"
      ]
    },
    {
      "cell_type": "code",
      "execution_count": null,
      "id": "7e5d5827",
      "metadata": {
        "id": "7e5d5827",
        "outputId": "9bc9913e-c9b1-49f0-8f32-b7ce54834c7a"
      },
      "outputs": [
        {
          "name": "stdout",
          "output_type": "stream",
          "text": [
            "<class 'int'>\n"
          ]
        }
      ],
      "source": [
        "#Tipos de Variaveis\n",
        "print(type(x))"
      ]
    },
    {
      "cell_type": "code",
      "execution_count": null,
      "id": "f8e1255f",
      "metadata": {
        "id": "f8e1255f",
        "outputId": "cf7cf3e1-3c26-4a9e-b951-1667cf0aa8bb"
      },
      "outputs": [
        {
          "name": "stdout",
          "output_type": "stream",
          "text": [
            "<class 'float'>\n"
          ]
        }
      ],
      "source": [
        "preco = 19.99\n",
        "print(type(preco))"
      ]
    },
    {
      "cell_type": "code",
      "execution_count": null,
      "id": "5aea1876",
      "metadata": {
        "id": "5aea1876",
        "outputId": "b73b83bc-aa6e-4905-e08f-473d49d49ddf"
      },
      "outputs": [
        {
          "name": "stdout",
          "output_type": "stream",
          "text": [
            "<class 'str'>\n"
          ]
        }
      ],
      "source": [
        "cidade =\"Manaus\"\n",
        "print(type(cidade))"
      ]
    },
    {
      "cell_type": "code",
      "execution_count": null,
      "id": "64c32fa9",
      "metadata": {
        "id": "64c32fa9",
        "outputId": "a948c4bb-1069-4aa2-f1a9-2c58e045963e"
      },
      "outputs": [
        {
          "name": "stdout",
          "output_type": "stream",
          "text": [
            "<class 'bool'>\n"
          ]
        }
      ],
      "source": [
        "disponivel = True\n",
        "print(type(disponivel))"
      ]
    },
    {
      "cell_type": "code",
      "execution_count": null,
      "id": "0133fde0",
      "metadata": {
        "id": "0133fde0"
      },
      "outputs": [],
      "source": [
        "x = -10 # uma variável do tipo inteiro (int)\n",
        "y = 3.14 # uma variável do tipo real (float)\n",
        "escola = \"Let's Code\" # uma variável literal (string)\n",
        "primeiraAula = True # uma variável lógica (booleana)"
      ]
    },
    {
      "cell_type": "markdown",
      "id": "700ac99e",
      "metadata": {
        "id": "700ac99e"
      },
      "source": [
        "# Aula 4 -Operadores"
      ]
    },
    {
      "cell_type": "code",
      "execution_count": null,
      "id": "32d7d1da",
      "metadata": {
        "id": "32d7d1da",
        "outputId": "ed7727f8-4b4c-4d8c-bcbd-68913f88273b"
      },
      "outputs": [
        {
          "name": "stdout",
          "output_type": "stream",
          "text": [
            "a= 5 b= -1 c= 6 d=  0.6666666666666666 e 0 f 8 g 2\n",
            "6 0\n"
          ]
        }
      ],
      "source": [
        "# Podemos fazer operações aritméticas simples\n",
        "a = 2 + 3  # Soma\n",
        "b = 2 - 3  # Subtração\n",
        "c = 2 * 3  # Multiplicação\n",
        "d = 2 / 3  # Divisão\n",
        "e = 2 // 3 # Divisão inteira\n",
        "f = 2 ** 3 # Potência\n",
        "g = 2 % 3  # Resto de divisão\n",
        "\n",
        "print (\"a=\", a, \"b=\",b,\"c=\", c, \"d= \",d, \"e\", e, \"f\",f,\"g\", g)\n",
        "# Podemos fazer operações dentro do print\n",
        "\n",
        "print (a+1, b+1)\n",
        "\n"
      ]
    },
    {
      "cell_type": "code",
      "execution_count": null,
      "id": "691c0b57",
      "metadata": {
        "id": "691c0b57",
        "outputId": "18c07ddc-cc27-4b0d-ec1e-b9d38847ab73"
      },
      "outputs": [
        {
          "name": "stdout",
          "output_type": "stream",
          "text": [
            "Digite seu primeiro nome:jucicarla\n",
            "jucicarla Schmitt\n"
          ]
        }
      ],
      "source": [
        "#Podemos fazer operações com variáveis não inteiras\n",
        "nome = input('Digite seu primeiro nome:')\n",
        "nome = nome + ' Schmitt'\n",
        "print(nome)"
      ]
    },
    {
      "cell_type": "code",
      "execution_count": null,
      "id": "309d881f",
      "metadata": {
        "id": "309d881f",
        "outputId": "bc4c9e17-c3e1-4fed-8c4c-877a91cc4891"
      },
      "outputs": [
        {
          "name": "stdout",
          "output_type": "stream",
          "text": [
            "True\n",
            "False\n"
          ]
        }
      ],
      "source": [
        "#Operadores relacionais\n",
        "comparacao1 = 5 > 3\n",
        "print(comparacao1)\n",
        "comparacao2 = 5 < 3\n",
        "print(comparacao2)"
      ]
    },
    {
      "cell_type": "code",
      "execution_count": null,
      "id": "d2cc99eb",
      "metadata": {
        "id": "d2cc99eb"
      },
      "outputs": [],
      "source": [
        "#Operadores lógicos\n",
        "#Em alguns casos também precisamos testar se duas ou mais condições são verdadeiras. Para isso utilizaremos as conjunções lógicas:\n",
        "\n",
        "        #and: verdadeiro se condição 1 for verdadeira e condição 2 for verdadeira\n",
        "        #or: verdadeiro se condição 1 for verdadeira ou condição 2 for verdadeira\n",
        "\n"
      ]
    },
    {
      "cell_type": "code",
      "execution_count": null,
      "id": "5218df6b",
      "metadata": {
        "id": "5218df6b"
      },
      "outputs": [],
      "source": [
        "comparacao1 = 5 > 3 and 6 > 3\n",
        "comparacao2 = 5 < 3 and 6 > 3"
      ]
    },
    {
      "cell_type": "code",
      "execution_count": null,
      "id": "86c58fec",
      "metadata": {
        "id": "86c58fec",
        "outputId": "0d87b3fe-d743-4c91-813c-bf41ffdb1036"
      },
      "outputs": [
        {
          "name": "stdout",
          "output_type": "stream",
          "text": [
            "True False\n"
          ]
        }
      ],
      "source": [
        "print(comparacao1, comparacao2)"
      ]
    },
    {
      "cell_type": "markdown",
      "id": "03698aa5",
      "metadata": {
        "id": "03698aa5"
      },
      "source": [
        "# Aula 05 - Estruturas Sequenciais"
      ]
    },
    {
      "cell_type": "code",
      "execution_count": null,
      "id": "64e9369d",
      "metadata": {
        "id": "64e9369d",
        "outputId": "04cca517-cdad-4a70-ecb2-e3b018fc97f5"
      },
      "outputs": [
        {
          "name": "stdout",
          "output_type": "stream",
          "text": [
            "eu estudo na  Let's Code\n",
            "pi vale 3.14\n",
            "4.140000000000001 9.8596\n"
          ]
        }
      ],
      "source": [
        "#outputs\n",
        "\n",
        "y = 3.14 # uma variável do tipo real (float)\n",
        "escola = \"Let's Code\" # uma variável literal (string)\n",
        "\n",
        "# Podemos exibir textos na tela e/ou valores de variáveis com a função print().\n",
        "print('eu estudo na ', escola)\n",
        "print('pi vale', y)\n",
        "\n",
        "# Podemos fazer operações dentro do print:\n",
        "print (y+1, y**2)"
      ]
    },
    {
      "cell_type": "code",
      "execution_count": null,
      "id": "0b0b2f24",
      "metadata": {
        "id": "0b0b2f24",
        "outputId": "0300bc9d-8601-4df5-b65b-2b9ee231495a"
      },
      "outputs": [
        {
          "name": "stdout",
          "output_type": "stream",
          "text": [
            "Digite o seu nome: jucicarla\n",
            "Digite o seu peso: 89\n",
            "Digite a sua idade: 35\n",
            "jucicarla pesa 89.0 kg e tem 35 anos de idade.\n"
          ]
        }
      ],
      "source": [
        "#Inputs\n",
        "# Podemos ler valores do teclado com a função input().\n",
        "# Ela permite que a gente passe uma mensagem para o usuário.\n",
        "nome = input('Digite o seu nome: ')\n",
        "\n",
        "# Tudo que é lido por input() é considerado uma string (str).\n",
        "# Para tratar como outros tipos de dados é necessário realizar a conversão:\n",
        "peso = float(input('Digite o seu peso: ')) # lê o peso como número real\n",
        "idade = int(input('Digite a sua idade: ')) # lê a idade como número inteiro\n",
        "\n",
        "print(nome, 'pesa', peso, 'kg e tem', idade, 'anos de idade.')"
      ]
    },
    {
      "cell_type": "markdown",
      "id": "b153ffab",
      "metadata": {
        "id": "b153ffab"
      },
      "source": [
        "# Aula 06 - Estruturas Condicionais"
      ]
    },
    {
      "cell_type": "code",
      "execution_count": null,
      "id": "aa4e0f5e",
      "metadata": {
        "id": "aa4e0f5e",
        "outputId": "418b7c16-2778-4e5b-df91-8d09f4eb2fb4"
      },
      "outputs": [
        {
          "name": "stdout",
          "output_type": "stream",
          "text": [
            "Digite sua idade:35\n",
            "Você pode entrar na montanha russa.\n",
            "Obrigado por participar.\n",
            "Digite sua altura, em metros:1.60\n",
            "Você pode entrar na montanha russa.\n",
            "Obrigado por participar.\n"
          ]
        }
      ],
      "source": [
        "#if\n",
        "idade = int(input('Digite sua idade:'))\n",
        "if idade >= 12:\n",
        "    print('Você pode entrar na montanha russa.')\n",
        "print('Obrigado por participar.')\n",
        "\n",
        "altura = float(input('Digite sua altura, em metros:'))\n",
        "if idade >= 12 and altura >= 1.60:\n",
        "    print('Você pode entrar na montanha russa.')\n",
        "print('Obrigado por participar.')"
      ]
    },
    {
      "cell_type": "code",
      "execution_count": null,
      "id": "ed6beb87",
      "metadata": {
        "id": "ed6beb87",
        "outputId": "4862e2f1-4360-43b0-a71b-dc1935143216"
      },
      "outputs": [
        {
          "name": "stdout",
          "output_type": "stream",
          "text": [
            "Digite sua idade:35\n",
            "Você gostaria de entrar nesta montanha russa?sim\n",
            "Por favor, entre!\n"
          ]
        }
      ],
      "source": [
        "idade = int(input('Digite sua idade:'))\n",
        "if idade >= 12:\n",
        "    resposta = input('Você gostaria de entrar nesta montanha russa?')\n",
        "    if (resposta == 'sim'):\n",
        "        print('Por favor, entre!')\n",
        "    else:\n",
        "        print('Ok então')\n",
        "else:\n",
        "    print('Você não tem idade suficiente para entrar nesse brinquedo.')"
      ]
    },
    {
      "cell_type": "code",
      "execution_count": null,
      "id": "bef95910",
      "metadata": {
        "id": "bef95910",
        "outputId": "544d1894-33fa-4474-e099-612da0c43fd4"
      },
      "outputs": [
        {
          "name": "stdout",
          "output_type": "stream",
          "text": [
            "Digite sua idade:35\n",
            "Digite sua altura, em metros:1.60\n",
            "Você pode entrar na montanha russa.\n",
            "Obrigado por participar.\n"
          ]
        }
      ],
      "source": [
        "idade = int(input('Digite sua idade:'))\n",
        "altura = float(input('Digite sua altura, em metros:'))\n",
        "if idade >= 12 and altura >= 1.60:\n",
        "    print('Você pode entrar na montanha russa.')\n",
        "else:\n",
        "    print('Você não pode entrar na montanha russa.')\n",
        "print('Obrigado por participar.')"
      ]
    },
    {
      "cell_type": "code",
      "execution_count": null,
      "id": "ac7b4d10",
      "metadata": {
        "id": "ac7b4d10"
      },
      "outputs": [],
      "source": [
        "#Elif\n",
        "\n",
        "#Podemos testar diversos casos mutuamente exclusivos utilizando o 'elif'.\n",
        "\n",
        "#O comando elif é a contração de \"else if\" - ou seja, caso um if não\n",
        "# seja executado, você pode propor uma nova condição para ser testada."
      ]
    },
    {
      "cell_type": "code",
      "execution_count": null,
      "id": "b5f32230",
      "metadata": {
        "id": "b5f32230",
        "outputId": "065fafad-92c0-4bed-bd84-9f0904d2f3e9"
      },
      "outputs": [
        {
          "name": "stdout",
          "output_type": "stream",
          "text": [
            "Quantos exercícios de Python vc já fez?30\n",
            "Tá indo bem, bora fazer mais alguns!\n"
          ]
        }
      ],
      "source": [
        "exercicios = int(input('Quantos exercícios de Python vc já fez?'))\n",
        "\n",
        "if exercicios > 30:\n",
        "    print('Já está ficando profissional!')\n",
        "elif exercicios > 20:\n",
        "    print('Tá indo bem, bora fazer mais alguns!')\n",
        "elif exercicios > 10:\n",
        "    print('Vamos tirar o atraso?')\n",
        "else:\n",
        "    print('Xiiii...')\n",
        "    \n",
        "# Observe que a união das 3 estruturas (if-elif-else) implica que seu código seguirá \n",
        "# apenas um dos possíveis caminhos, obrigatoriamente."
      ]
    },
    {
      "cell_type": "markdown",
      "id": "4bf4b7aa",
      "metadata": {
        "id": "4bf4b7aa"
      },
      "source": [
        "# Aula 07 - Estruturas de Repetição - While"
      ]
    },
    {
      "cell_type": "code",
      "execution_count": null,
      "id": "8aa85cbb",
      "metadata": {
        "id": "8aa85cbb",
        "outputId": "c6f168aa-32d6-435f-a421-6396fa44d346"
      },
      "outputs": [
        {
          "name": "stdout",
          "output_type": "stream",
          "text": [
            "Qual horario é agora? 5\n",
            "Você está no horario da madrugada\n",
            "Você está no horario da madrugada\n",
            "Você nao está no horario da madrugada\n",
            "Digite o numero de pipocas: 2\n",
            "O numero de pipocas é:  2\n",
            "O numero de pipocas é:  1\n"
          ]
        }
      ],
      "source": [
        "horario = int(input('Qual horario é agora? '))\n",
        "\n",
        "# Testando a condição uma única vez com o if:\n",
        "if 0 < horario < 6:\n",
        "    print('Você está no horario da madrugada')\n",
        "else:\n",
        "    print('Você nao está no horario da madrugada')\n",
        "\n",
        "# Testando a condição em loop com o while:\n",
        "while 0 < horario < 6:\n",
        "    print('Você está no horario da madrugada')\n",
        "    horario = horario + 1\n",
        "else:\n",
        "    print('Você nao está no horario da madrugada')\n",
        "\n",
        "# O while permite continuar decrementando o número de pipocas até chegar em 0:\n",
        "num_pipocas = int(input('Digite o numero de pipocas: '))\n",
        "\n",
        "while num_pipocas > 0:\n",
        "    print('O numero de pipocas é: ', num_pipocas)\n",
        "    num_pipocas = num_pipocas - 1"
      ]
    },
    {
      "cell_type": "code",
      "execution_count": null,
      "id": "6406569f",
      "metadata": {
        "id": "6406569f",
        "outputId": "cdb58ee3-d657-4865-d13d-9c40465084be"
      },
      "outputs": [
        {
          "name": "stdout",
          "output_type": "stream",
          "text": [
            "Digite seu salario: 1000\n",
            "O salario que você entrou foi:  1000.0\n"
          ]
        }
      ],
      "source": [
        "# Validação de entrada\n",
        "\n",
        "# Uma utilidade interessante do while é obrigar o usuário a digitar \n",
        "# apenas entradas válidas.\n",
        "\n",
        "# o exemplo abaixo não aceita um salário menor do que o mínimo atual:\n",
        "salario = float(input('Digite seu salario: '))\n",
        "while salario < 998.0:\n",
        "    salario = float(input('Entre com um salario MAIOR DO QUE 998.0: '))\n",
        "else:\n",
        "    print('O salario que você entrou foi: ', salario)\n"
      ]
    },
    {
      "cell_type": "code",
      "execution_count": null,
      "id": "f3efb0a7",
      "metadata": {
        "id": "f3efb0a7",
        "outputId": "b5c4320a-f4d4-4b5a-f4ea-b4e6237a48ec"
      },
      "outputs": [
        {
          "name": "stdout",
          "output_type": "stream",
          "text": [
            "Digite OK: ok\n",
            "Não foi isso que eu pedi, digite OK: OK\n"
          ]
        }
      ],
      "source": [
        "# o exemplo abaixo só sai do loop quando o usuário digitar \"OK\":\n",
        "resposta = input('Digite OK: ')\n",
        "while resposta != 'OK':\n",
        "    resposta = input('Não foi isso que eu pedi, digite OK: ')"
      ]
    },
    {
      "cell_type": "code",
      "execution_count": null,
      "id": "6c819d1f",
      "metadata": {
        "id": "6c819d1f",
        "outputId": "d95136d0-8a0a-46e0-fbc7-b33e7de222ce"
      },
      "outputs": [
        {
          "name": "stdout",
          "output_type": "stream",
          "text": [
            "Digite um numero: 15\n",
            "0\n",
            "1\n",
            "2\n",
            "3\n",
            "4\n",
            "5\n",
            "6\n",
            "7\n",
            "8\n",
            "9\n",
            "10\n",
            "11\n",
            "12\n",
            "13\n",
            "14\n"
          ]
        }
      ],
      "source": [
        "#Contador\n",
        "\n",
        "#Todo tipo de código que deve se repetir várias vezes pode ser \n",
        "# feito com o while, como somar vários valores, gerar uma sequência etc. Nestes casos, é normal utilizar um contador:\n",
        "\n",
        "# Declaramos um contador como 0:\n",
        "contador = 0\n",
        "# Definimos o número de repetições:\n",
        "numero = int(input('Digite um numero: '))\n",
        "# Rodamos o while até o contador se igualar ao número de repetições:\n",
        "while contador < numero:\n",
        "    print(contador)\n",
        "    contador = contador + 1\n"
      ]
    },
    {
      "cell_type": "code",
      "execution_count": null,
      "id": "41f62fee",
      "metadata": {
        "id": "41f62fee",
        "outputId": "9e095f68-7e2a-4ffc-94a0-5a73c89e9d58"
      },
      "outputs": [
        {
          "name": "stdout",
          "output_type": "stream",
          "text": [
            "Digite OK: OK\n"
          ]
        }
      ],
      "source": [
        "#Break\n",
        "\n",
        "#Um jeito de forçar um loop a ser interrompido é utilizando o comando 'break'. O loop abaixo em tese seria infinito, mas se a condição do if for verificada, o break é executado e conseguimos escapar do loop:\n",
        "\n",
        "while True:\n",
        "    resposta = input('Digite OK: ')\n",
        "    if resposta == 'OK':\n",
        "        break\n"
      ]
    }
  ],
  "metadata": {
    "kernelspec": {
      "display_name": "Python 3 (ipykernel)",
      "language": "python",
      "name": "python3"
    },
    "language_info": {
      "codemirror_mode": {
        "name": "ipython",
        "version": 3
      },
      "file_extension": ".py",
      "mimetype": "text/x-python",
      "name": "python",
      "nbconvert_exporter": "python",
      "pygments_lexer": "ipython3",
      "version": "3.9.7"
    },
    "colab": {
      "name": "Python Basic - Estudo da Lets Code.ipynb",
      "provenance": [],
      "include_colab_link": true
    }
  },
  "nbformat": 4,
  "nbformat_minor": 5
}
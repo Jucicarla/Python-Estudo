{
  "cells": [
    {
      "cell_type": "markdown",
      "metadata": {
        "id": "view-in-github",
        "colab_type": "text"
      },
      "source": [
        "<a href=\"https://colab.research.google.com/github/Jucicarla/Python-Estudo/blob/main/Python_Estrutura_avan%C3%A7ada_Estudo_Lets_Code.ipynb\" target=\"_parent\"><img src=\"https://colab.research.google.com/assets/colab-badge.svg\" alt=\"Open In Colab\"/></a>"
      ]
    },
    {
      "cell_type": "markdown",
      "source": [
        "# Estruturas Avançadas"
      ],
      "metadata": {
        "id": "QA7VWCluehD2"
      },
      "id": "QA7VWCluehD2"
    },
    {
      "cell_type": "markdown",
      "id": "f8a096d2",
      "metadata": {
        "id": "f8a096d2"
      },
      "source": [
        "Aula 01 - Listas e Tuplas"
      ]
    },
    {
      "cell_type": "code",
      "execution_count": 1,
      "id": "fdfd1892",
      "metadata": {
        "colab": {
          "base_uri": "https://localhost:8080/"
        },
        "id": "fdfd1892",
        "outputId": "9550f0eb-f861-421e-da83-ed7b25eaf2f5"
      },
      "outputs": [
        {
          "output_type": "stream",
          "name": "stdout",
          "text": [
            "['Brasil', 'Argentina', 'China', 'Canadá', 'China']\n"
          ]
        }
      ],
      "source": [
        "nomes_paises = [\"Brasil\", \"Argentina\", \"China\", \"Canadá\", \"China\"]\n",
        "print(nomes_paises)"
      ]
    },
    {
      "cell_type": "code",
      "execution_count": 2,
      "id": "868af03b",
      "metadata": {
        "colab": {
          "base_uri": "https://localhost:8080/"
        },
        "id": "868af03b",
        "outputId": "d31f58d8-e44a-41ac-9f5d-d2250e5f3638"
      },
      "outputs": [
        {
          "output_type": "stream",
          "name": "stdout",
          "text": [
            "Tamanho da lista 5\n"
          ]
        }
      ],
      "source": [
        "print(\"Tamanho da lista\", len(nomes_paises))"
      ]
    },
    {
      "cell_type": "code",
      "execution_count": 3,
      "id": "aa70bad6",
      "metadata": {
        "colab": {
          "base_uri": "https://localhost:8080/"
        },
        "id": "aa70bad6",
        "outputId": "e51656ef-64cf-412b-b66a-b7e2b43ae7e2"
      },
      "outputs": [
        {
          "output_type": "stream",
          "name": "stdout",
          "text": [
            "Pais:  Colombia\n"
          ]
        }
      ],
      "source": [
        "nomes_paises[4] = \"Colombia\"\n",
        "print(\"Pais: \", nomes_paises[4])"
      ]
    },
    {
      "cell_type": "code",
      "execution_count": 4,
      "id": "f3f95f92",
      "metadata": {
        "colab": {
          "base_uri": "https://localhost:8080/"
        },
        "id": "f3f95f92",
        "outputId": "b81d58e1-f606-4421-e0e0-a226328cec0b"
      },
      "outputs": [
        {
          "output_type": "stream",
          "name": "stdout",
          "text": [
            "['Argentina', 'China']\n"
          ]
        }
      ],
      "source": [
        "#fatiamento\n",
        "print(nomes_paises[1:3])"
      ]
    },
    {
      "cell_type": "code",
      "execution_count": 5,
      "id": "46f6bded",
      "metadata": {
        "colab": {
          "base_uri": "https://localhost:8080/"
        },
        "id": "46f6bded",
        "outputId": "cb227cb9-b0ef-48f9-f3de-38f808344d91"
      },
      "outputs": [
        {
          "output_type": "stream",
          "name": "stdout",
          "text": [
            "['Argentina', 'China', 'Canadá']\n"
          ]
        }
      ],
      "source": [
        "print(nomes_paises[1:-1])"
      ]
    },
    {
      "cell_type": "code",
      "execution_count": 6,
      "id": "7b900371",
      "metadata": {
        "colab": {
          "base_uri": "https://localhost:8080/"
        },
        "id": "7b900371",
        "outputId": "a3d81dec-8ba1-4f48-9d16-dcfbd2ea474c"
      },
      "outputs": [
        {
          "output_type": "stream",
          "name": "stdout",
          "text": [
            "['Brasil', 'Argentina', 'China', 'Canadá', 'Colombia']\n"
          ]
        }
      ],
      "source": [
        "print(nomes_paises[:])"
      ]
    },
    {
      "cell_type": "code",
      "execution_count": 7,
      "id": "0239d7da",
      "metadata": {
        "colab": {
          "base_uri": "https://localhost:8080/"
        },
        "id": "0239d7da",
        "outputId": "706fd0f4-eb9f-411e-ff45-f86d96492cac"
      },
      "outputs": [
        {
          "output_type": "stream",
          "name": "stdout",
          "text": [
            "['Colombia', 'Canadá', 'China', 'Argentina', 'Brasil']\n"
          ]
        }
      ],
      "source": [
        "#inverte a lista\n",
        "print(nomes_paises[::-1])"
      ]
    },
    {
      "cell_type": "code",
      "execution_count": 8,
      "id": "b5aa0fc9",
      "metadata": {
        "colab": {
          "base_uri": "https://localhost:8080/"
        },
        "id": "b5aa0fc9",
        "outputId": "2fc10ece-6a1b-4f9a-a3c1-df9989e967ae"
      },
      "outputs": [
        {
          "output_type": "stream",
          "name": "stdout",
          "text": [
            "True\n"
          ]
        }
      ],
      "source": [
        "print(\"Brasil\" in nomes_paises)"
      ]
    },
    {
      "cell_type": "code",
      "execution_count": 9,
      "id": "0f6aa26c",
      "metadata": {
        "colab": {
          "base_uri": "https://localhost:8080/"
        },
        "id": "0f6aa26c",
        "outputId": "d6a3702d-2e44-43fa-cbfa-eca0caccd1bd"
      },
      "outputs": [
        {
          "output_type": "stream",
          "name": "stdout",
          "text": [
            "False\n"
          ]
        }
      ],
      "source": [
        "print (\"Canadá\" not in nomes_paises)"
      ]
    },
    {
      "cell_type": "code",
      "execution_count": 10,
      "id": "d829e23d",
      "metadata": {
        "colab": {
          "base_uri": "https://localhost:8080/"
        },
        "id": "d829e23d",
        "outputId": "d8dc89d0-0a25-47b1-d4f6-c1417edcd028"
      },
      "outputs": [
        {
          "output_type": "stream",
          "name": "stdout",
          "text": [
            "1\n",
            "3\n",
            "7\n",
            "8\n",
            "9\n",
            "[1, 3, 5, 8, 9]\n",
            "1\n",
            "3\n",
            "5\n",
            "8\n",
            "9\n"
          ]
        }
      ],
      "source": [
        "# Criando uma lista vazia.\n",
        "listavazia = []\n",
        "\n",
        "# Criando uma lista com alguns valores.\n",
        "numeros = [1, 3, 7, 8, 9]\n",
        "\n",
        "# Listas podem mesclar diferentes tipos de valores.\n",
        "listamista = [14, \"let's code\", 0.1, True]\n",
        "\n",
        "# Acessamos cada elemento da lista através de um índice entre colchetes.\n",
        "# Os índices começam em 0.\n",
        "print(numeros[0])\n",
        "print(numeros[1])\n",
        "print(numeros[2])\n",
        "print(numeros[3])\n",
        "print(numeros[4])\n",
        "\n",
        "# Listas são mutáveis: podemos alterar o valor de seus itens.\n",
        "numeros[2] = 5\n",
        "print(numeros)\n",
        "\n",
        "# Um jeito inteligente de trabalhar com listas é utilizando loops.\n",
        "indice = 0\n",
        "while indice < 5:\n",
        "    print(numeros[indice])\n",
        "    indice = indice + 1\n",
        "\n"
      ]
    },
    {
      "cell_type": "markdown",
      "id": "b3cb36ff",
      "metadata": {
        "id": "b3cb36ff"
      },
      "source": [
        "Funções de listas\n",
        "\n",
        "Algumas funções podem nos ajudar a trabalhar com listas. Ao percorrermos nossa lista com um while, poderíamos usar len() caso não soubéssemos o comprimento da lista."
      ]
    },
    {
      "cell_type": "code",
      "execution_count": 11,
      "id": "97e39c82",
      "metadata": {
        "colab": {
          "base_uri": "https://localhost:8080/"
        },
        "id": "97e39c82",
        "outputId": "38b23383-6d3a-404c-cc13-5ae4a4fe71f1"
      },
      "outputs": [
        {
          "output_type": "stream",
          "name": "stdout",
          "text": [
            "1\n",
            "3\n",
            "5\n",
            "8\n",
            "9\n"
          ]
        }
      ],
      "source": [
        "indice = 0\n",
        "while indice < len(numeros):\n",
        "    print(numeros[indice])\n",
        "    indice = indice + 1"
      ]
    },
    {
      "cell_type": "markdown",
      "id": "1b4b3ba0",
      "metadata": {
        "id": "1b4b3ba0"
      },
      "source": [
        "Outra função útil é lista.append(), que coloca um elemento novo ao final da lista."
      ]
    },
    {
      "cell_type": "code",
      "execution_count": 12,
      "id": "87b321e2",
      "metadata": {
        "colab": {
          "base_uri": "https://localhost:8080/"
        },
        "id": "87b321e2",
        "outputId": "eb0012e4-55c6-44d3-bceb-3094658b5cb6"
      },
      "outputs": [
        {
          "output_type": "stream",
          "name": "stdout",
          "text": [
            "Deseja adicionar um animal à lista (s/n)? s\n",
            "Digite o nome do animal: macaco\n",
            "Deseja adicionar um animal à lista (s/n)? n\n",
            "['macaco']\n"
          ]
        }
      ],
      "source": [
        "animais = []\n",
        "resposta = 's'\n",
        "while resposta == 's' or resposta == 'S':\n",
        "    resposta = input('Deseja adicionar um animal à lista (s/n)? ')\n",
        "    if (resposta == 's' or resposta == 'S'):\n",
        "        animal = input('Digite o nome do animal: ')\n",
        "        animais.append(animal) # adiciona o novo animal à lista\n",
        "print(animais)"
      ]
    },
    {
      "cell_type": "markdown",
      "id": "57c61197",
      "metadata": {
        "id": "57c61197"
      },
      "source": [
        "A função lista.remove() deleta um elemento da lista. (mas dá erro se o elemento não existir)."
      ]
    },
    {
      "cell_type": "code",
      "execution_count": 13,
      "id": "62619c69",
      "metadata": {
        "colab": {
          "base_uri": "https://localhost:8080/"
        },
        "id": "62619c69",
        "outputId": "665aeb05-82a4-43ce-c326-3f8b3845564a"
      },
      "outputs": [
        {
          "output_type": "stream",
          "name": "stdout",
          "text": [
            "Digite o animal a ser deletado da lista: macaco\n",
            "[]\n"
          ]
        }
      ],
      "source": [
        "animal = input('Digite o animal a ser deletado da lista: ')\n",
        "animais.remove(animal)\n",
        "print(animais)"
      ]
    },
    {
      "cell_type": "code",
      "execution_count": 14,
      "id": "0448ce92",
      "metadata": {
        "id": "0448ce92"
      },
      "outputs": [],
      "source": [
        "#Algumas outras funções úteis:\n",
        "\n",
        "#lista.count() #conta quantas vezes um elemento aparece."
      ]
    },
    {
      "cell_type": "code",
      "execution_count": 15,
      "id": "3efa344a",
      "metadata": {
        "colab": {
          "base_uri": "https://localhost:8080/"
        },
        "id": "3efa344a",
        "outputId": "8e0783ab-6613-41d1-fa3c-200ec10a9428"
      },
      "outputs": [
        {
          "output_type": "stream",
          "name": "stdout",
          "text": [
            "['Ronaldo', 'Rivaldo', 'Ronaldo', 'Adriano']\n",
            "Quantidade de Ronaldos:  2\n"
          ]
        }
      ],
      "source": [
        "jogadores = ['Ronaldo', 'Rivaldo', 'Ronaldo', 'Adriano']\n",
        "ronaldos = jogadores.count('Ronaldo')\n",
        "print(jogadores)\n",
        "print('Quantidade de Ronaldos: ', ronaldos)"
      ]
    },
    {
      "cell_type": "markdown",
      "id": "bceb1bf1",
      "metadata": {
        "id": "bceb1bf1"
      },
      "source": [
        "lista.index() busca em um elemento e fala em qual posição ele aparece."
      ]
    },
    {
      "cell_type": "code",
      "execution_count": 16,
      "id": "459ac86e",
      "metadata": {
        "colab": {
          "base_uri": "https://localhost:8080/"
        },
        "id": "459ac86e",
        "outputId": "9d4933be-39cb-4b42-f106-738048aff161"
      },
      "outputs": [
        {
          "output_type": "stream",
          "name": "stdout",
          "text": [
            "Rivaldo está na posição  1\n"
          ]
        }
      ],
      "source": [
        "rivaldo = jogadores.index('Rivaldo')\n",
        "print(\"Rivaldo está na posição \", rivaldo)"
      ]
    },
    {
      "cell_type": "markdown",
      "id": "26d855ca",
      "metadata": {
        "id": "26d855ca"
      },
      "source": [
        "lista.sort() ordena uma lista."
      ]
    },
    {
      "cell_type": "code",
      "execution_count": 17,
      "id": "e748922c",
      "metadata": {
        "colab": {
          "base_uri": "https://localhost:8080/"
        },
        "id": "e748922c",
        "outputId": "e6554dd6-80ab-4d47-fcae-859656062adf"
      },
      "outputs": [
        {
          "output_type": "stream",
          "name": "stdout",
          "text": [
            "jogadores em ordem alfabética:  ['Adriano', 'Rivaldo', 'Ronaldo', 'Ronaldo']\n"
          ]
        }
      ],
      "source": [
        "jogadores.sort()\n",
        "print(\"jogadores em ordem alfabética: \", jogadores)"
      ]
    },
    {
      "cell_type": "markdown",
      "id": "57baf6fe",
      "metadata": {
        "id": "57baf6fe"
      },
      "source": [
        "As funções max(lista) e min(lista) obtém, respectivamente, o maior e o menor valor."
      ]
    },
    {
      "cell_type": "code",
      "execution_count": 18,
      "id": "de34766b",
      "metadata": {
        "colab": {
          "base_uri": "https://localhost:8080/"
        },
        "id": "de34766b",
        "outputId": "ea862020-e6cc-41f2-9531-177da193be13"
      },
      "outputs": [
        {
          "output_type": "stream",
          "name": "stdout",
          "text": [
            "[3, 1, 4, 1, 5, 9, 2, 6, 5]\n",
            "Maior =  9 e menor =  1\n"
          ]
        }
      ],
      "source": [
        "digitos = [3, 1, 4, 1, 5, 9, 2, 6, 5]\n",
        "maior = max(digitos)\n",
        "menor = min(digitos)\n",
        "print(digitos)\n",
        "print(\"Maior = \", maior, \"e menor = \", menor)"
      ]
    },
    {
      "cell_type": "markdown",
      "id": "966331f3",
      "metadata": {
        "id": "966331f3"
      },
      "source": [
        "Tuplas"
      ]
    },
    {
      "cell_type": "code",
      "execution_count": 19,
      "id": "c353d746",
      "metadata": {
        "colab": {
          "base_uri": "https://localhost:8080/"
        },
        "id": "c353d746",
        "outputId": "d72370ae-4aea-4250-c64a-7258a27654d0"
      },
      "outputs": [
        {
          "output_type": "stream",
          "name": "stdout",
          "text": [
            "7\n",
            "<class 'tuple'>\n"
          ]
        }
      ],
      "source": [
        "# Uma tupla é uma coleção de objetos que lembra muito as listas.\n",
        "\n",
        "# Ao invés de colchetes, usamos parênteses para declarar as tuplas:\n",
        "numeros = (1,2,3,5,7,11)\n",
        "\n",
        "# Podemos declarar sem parênteses também:\n",
        "numeros = 1,2,3,5,7,11\n",
        "\n",
        "# Para acessar um valor, utilizamos a mesma sintaxe das listas:\n",
        "print(numeros[4])\n",
        "print(type(numeros))\n",
        "\n",
        "'''\n",
        "Porém, tuplas são imutáveis: não é possível adicionar ou modificar valores.\n",
        "Descomentar a linha abaixo provocará erro de execução:\n",
        "'''\n",
        "# numeros[4] = 8\n",
        "\n",
        "# Podemos gerar uma tupla a partir de uma lista...\n",
        "lista1 = [3, 1, 4, 1, 5, 9, 2, 6, 5]"
      ]
    },
    {
      "cell_type": "code",
      "execution_count": 20,
      "id": "88e34aab",
      "metadata": {
        "colab": {
          "base_uri": "https://localhost:8080/"
        },
        "id": "88e34aab",
        "outputId": "819599e1-b2cd-4a3a-9485-f8c4f67f4f94"
      },
      "outputs": [
        {
          "output_type": "stream",
          "name": "stdout",
          "text": [
            "(3, 1, 4, 1, 5, 9, 2, 6, 5)\n",
            "[1, 6, 1, 8]\n",
            "O primeiro vale: 1 e o ultimo vale: 11\n"
          ]
        }
      ],
      "source": [
        "tupla1 = tuple(lista1)\n",
        "print(tupla1)\n",
        "\n",
        "# ...ou uma lista a partir de uma tupla:\n",
        "tupla2 = [1, 6, 1, 8]\n",
        "lista2 = list(tupla2)\n",
        "print(lista2)\n",
        "\n",
        "# Também pode-se usar o unpacking com uma tupla:\n",
        "a, b, c, d, e, f = numeros # \"desempacota\" a tupla numeros\n",
        "print(\"O primeiro vale:\", a, \"e o ultimo vale:\", f)"
      ]
    },
    {
      "cell_type": "markdown",
      "id": "02665841",
      "metadata": {
        "id": "02665841"
      },
      "source": [
        "Aula 2 - Funções de strings"
      ]
    },
    {
      "cell_type": "code",
      "execution_count": 21,
      "id": "b01e3a96",
      "metadata": {
        "colab": {
          "base_uri": "https://localhost:8080/"
        },
        "id": "b01e3a96",
        "outputId": "57536f53-bf5f-4067-e169-b1ddab7711bf"
      },
      "outputs": [
        {
          "output_type": "stream",
          "name": "stdout",
          "text": [
            "l\n",
            "e\n",
            "t\n",
            "A frase possui 10 caracteres\n",
            "['l', 'e', 't', \"'\", 's', ' ', 'C', 'o', 'd', 'e']\n"
          ]
        }
      ],
      "source": [
        "#Suponhamos que temos a seguinte string:\n",
        "\n",
        "frase = \"let's Code\"\n",
        "\n",
        "# Podemos acessar individualmente cada caractere em uma frase.\n",
        "# A ideia é a mesma de acessar uma lista:\n",
        "print(frase[0])\n",
        "print(frase[1])\n",
        "print(frase[2])\n",
        "\n",
        "tamanho = len(frase)\n",
        "print(\"A frase possui\", tamanho, \"caracteres\")\n",
        "\n",
        "# Porém, strings são imutáveis: não podemos alterar caracteres individuais\n",
        "# A linha abaixo, se for descomentada, dará erro no programa:\n",
        "# frase[4] = 'C'\n",
        "\n",
        "# Podemos converter strings para listas:\n",
        "listafrase = list(frase)\n",
        "print(listafrase)\n"
      ]
    },
    {
      "cell_type": "code",
      "execution_count": 22,
      "id": "f4c5fdfe",
      "metadata": {
        "colab": {
          "base_uri": "https://localhost:8080/"
        },
        "id": "f4c5fdfe",
        "outputId": "a097d0ac-3962-4133-a1ce-d0c57642edea"
      },
      "outputs": [
        {
          "output_type": "stream",
          "name": "stdout",
          "text": [
            "l-pye-pyt-py'-pys-py -pyC-pyo-pyd-pye\n",
            "let's Code\n",
            "Let's code\n",
            "Title Let'S Code\n",
            "LET'S CODE\n",
            "let's code\n",
            "let's Code\n",
            "String original: let's Code\n"
          ]
        }
      ],
      "source": [
        "# A função join() intercala cada elemento de uma lista com uma string.\n",
        "stringfinal = '-py'.join(listafrase)\n",
        "print(stringfinal)\n",
        "\n",
        "# Usar um join() com uma string vazia é útil para transformar a lista de volta\n",
        "# em string:\n",
        "stringfinal = ''.join(listafrase)\n",
        "print(stringfinal)\n",
        "\n",
        "# Existem algumas funções interessantes que retornam a string \"tratada\":\n",
        "s1 = frase.capitalize() # 1a letra maiúscula, restante minúscula\n",
        "s2 = frase.title() # todo início de palavra em maiúscula, resto minúscula\n",
        "s3 = frase.upper() # string inteira em maiúscula\n",
        "s4 = frase.lower() # string inteira em minúscula\n",
        "s5 = frase.replace('F', 'C') # substitui a primeira substring pela segunda\n",
        "\n",
        "print(s1)\n",
        "print(\"Title\",s2)\n",
        "print(s3)\n",
        "print(s4)\n",
        "print(s5)\n",
        "# Note que NENHUMA delas ALTERA a string original, elas sempre retornam\n",
        "# a string nova.\n",
        "print('String original:', frase)"
      ]
    },
    {
      "cell_type": "code",
      "execution_count": 23,
      "id": "2a15e3c6",
      "metadata": {
        "colab": {
          "base_uri": "https://localhost:8080/"
        },
        "id": "2a15e3c6",
        "outputId": "efe428b7-15df-40d1-d692-31dcd7d0d07d"
      },
      "outputs": [
        {
          "output_type": "stream",
          "name": "stdout",
          "text": [
            "[\"let's\", 'Code']\n",
            "[\"LET'S CODE\"]\n",
            "uma\n",
            "FRASE\n",
            "uma\n",
            "\tFRASE\n"
          ]
        }
      ],
      "source": [
        "# Outra possibilidade com strings é quebrar a string em uma lista de substrings\n",
        "# Sempre que o caractere especificado é encontrado, a string é quebrada\n",
        "quebra1 = frase.split(' ') # quebra a frase no caractere espaço em branco\n",
        "quebra2 = s3.split('A') # quebra a frase em maiúsculas no caractere 'A'\n",
        "\n",
        "print(quebra1)\n",
        "print(quebra2)\n",
        "\n",
        "# Podemos inserir quebras de linha com '\\n'\n",
        "frase = 'uma\\nFRASE'\n",
        "print(frase)\n",
        "# Podemos inserir tabulação com '\\t'\n",
        "frase = 'uma\\n\\tFRASE'\n",
        "print(frase)\n",
        "# Para conseguir representar a barra '\\', precisamos de 2 barras:\n",
        "frase = 'uma\\\\FRASE'"
      ]
    },
    {
      "cell_type": "code",
      "execution_count": 24,
      "id": "57865032",
      "metadata": {
        "colab": {
          "base_uri": "https://localhost:8080/"
        },
        "id": "57865032",
        "outputId": "1f52c343-63d4-4789-e80d-84f403769ecf"
      },
      "outputs": [
        {
          "output_type": "stream",
          "name": "stdout",
          "text": [
            "MENU PRINCIPAL\n"
          ]
        }
      ],
      "source": [
        "cabecalho = \"      MENU PRINCIPAL   \"\n",
        "print(cabecalho.strip())"
      ]
    },
    {
      "cell_type": "code",
      "execution_count": 25,
      "id": "c59a2579",
      "metadata": {
        "colab": {
          "base_uri": "https://localhost:8080/"
        },
        "id": "c59a2579",
        "outputId": "191f90b6-7a91-4dcb-b07d-879c9dfb3ce6"
      },
      "outputs": [
        {
          "output_type": "stream",
          "name": "stdout",
          "text": [
            "Que cidade do Brasil é conhecida como a cidade Maravilhosa:rio de janeiro\n",
            "Boaa, Campeão!\n"
          ]
        }
      ],
      "source": [
        "nome_cidade = input(\"Que cidade do Brasil é conhecida como a cidade Maravilhosa:\")\n",
        "nome_cidade = nome_cidade.strip()\n",
        "while nome_cidade.lower() != 'rio de janeiro':\n",
        "    print(\"tente de novo, vai\")\n",
        "    nome_cidade = input(\"Que cidade do Brasil é conhecida como a cidade Maravilhosa\")\n",
        "print(\"Boaa, Campeão!\")"
      ]
    },
    {
      "cell_type": "code",
      "execution_count": 26,
      "id": "2e7c813f",
      "metadata": {
        "colab": {
          "base_uri": "https://localhost:8080/"
        },
        "id": "2e7c813f",
        "outputId": "64dd4a30-c8e8-4857-dd28-200903814ab1"
      },
      "outputs": [
        {
          "output_type": "stream",
          "name": "stdout",
          "text": [
            "True\n"
          ]
        }
      ],
      "source": [
        "mensagem = \"Você viu o que o Pietro disse na sala ontem:\"\n",
        "fui_citado = \"Pietro\" in mensagem\n",
        "print(fui_citado)"
      ]
    },
    {
      "cell_type": "markdown",
      "id": "ad12edee",
      "metadata": {
        "id": "ad12edee"
      },
      "source": [
        "Aula 03 - Strings II"
      ]
    },
    {
      "cell_type": "code",
      "execution_count": 27,
      "id": "90309baf",
      "metadata": {
        "colab": {
          "base_uri": "https://localhost:8080/"
        },
        "id": "90309baf",
        "outputId": "0721a66d-a985-4121-8cea-fe8f030b423e"
      },
      "outputs": [
        {
          "output_type": "stream",
          "name": "stdout",
          "text": [
            "Let'sCode\n",
            "umaumauma\n"
          ]
        }
      ],
      "source": [
        "# Dois operadores aritméticos possuem um comportamento especial em strings:\n",
        "# Operador de soma (+): concatena (une) 2 strings.\n",
        "palavra1 = \"Let's\"\n",
        "palavra2 = \"Code\"\n",
        "palavra3 = palavra1 + palavra2\n",
        "print(palavra3)\n",
        "\n",
        "# Operador de multiplicação (*): copia uma string 'n' vezes:\n",
        "palavra = 'uma'\n",
        "trespalavras = 3*palavra\n",
        "print(trespalavras)"
      ]
    },
    {
      "cell_type": "markdown",
      "id": "9f253eb2",
      "metadata": {
        "id": "9f253eb2"
      },
      "source": [
        "Formatação de strings\n",
        "\n",
        "Uma última função interessante de strings é o .format() Para entender como ela funciona, podemos pensar em um contrato. É normal que ele venha com campos em branco para serem preenchidos posteriormente. Ex:\n",
        "\n",
        "Eu, ______________, portador do RG ________________ e nascido ao dia //, autorizo o uso de minha imagem.\n",
        "\n",
        "Ao inserirmos no contrato nossas informações pessoais, ele se torna completo.\n",
        "\n",
        "O .format() serve para \"preencher\" os \"campos em branco\" de uma string.\n",
        "\n",
        "Os campos em branco serão representados por pares de chave: {}"
      ]
    },
    {
      "cell_type": "code",
      "execution_count": 28,
      "id": "62d387d3",
      "metadata": {
        "colab": {
          "base_uri": "https://localhost:8080/"
        },
        "id": "62d387d3",
        "outputId": "237ad208-1531-4616-f595-bc5ae7b0c5cd"
      },
      "outputs": [
        {
          "output_type": "stream",
          "name": "stdout",
          "text": [
            "1/8/2019\n"
          ]
        }
      ],
      "source": [
        "# Podemos especificar um número de dígitos obrigatório por campo.\n",
        "# Vejamos o exemplo:\n",
        "\n",
        "dia = 1\n",
        "mes = 8\n",
        "ano = 2019\n",
        "data1 = '{}/{}/{}'.format(dia, mes, ano)\n",
        "print(data1)\n",
        "# Saída: 1/8/2019\n",
        "# O dia e o mês ocupam apenas 1 espaço\n"
      ]
    },
    {
      "cell_type": "code",
      "execution_count": 29,
      "id": "8e4bdcb4",
      "metadata": {
        "colab": {
          "base_uri": "https://localhost:8080/"
        },
        "id": "8e4bdcb4",
        "outputId": "f275261c-b11f-496e-8adf-673d29b4c0da"
      },
      "outputs": [
        {
          "output_type": "stream",
          "name": "stdout",
          "text": [
            "O produto chocolate custa 3.14.\n",
            "O litro da gasolina custa 3.14\n",
            "c, b and a\n",
            "abracadabra\n",
            " 1/ 8/2019\n",
            "01/08/2019\n",
            "Pietro é professor da Let's Code.\n"
          ]
        }
      ],
      "source": [
        "prod = 'chocolate'\n",
        "preco = 3.14\n",
        "print('O produto {} custa {}.'.format(prod, preco))\n",
        "\n",
        "# Na linha acima, prod substituirá o primeiro {}, e preco o segundo {}.\n",
        "# Saída: O produto chocolate custa 3.14.\n",
        "\n",
        "# É possível colocar algumas opções especiais de formatação. Por exemplo:\n",
        "\n",
        "stringoriginal = 'O litro da gasolina custa {:.2f}'\n",
        "'''\n",
        ": indica que passaremos opções\n",
        ".2 indica apenas 2 casas após o ponto decimal\n",
        "f indica que é um float\n",
        "'''\n",
        "preco = 3.14159265\n",
        "stringcompleta = stringoriginal.format(preco)\n",
        "print(stringcompleta)\n",
        "# Saída: O litro da gasolina custa 3.14\n",
        "# O preço sai com apenas 2 casas após a vírgula!\n",
        "\n",
        "# Pode-se chamar as variávies em diferentes ordens:\n",
        "\n",
        "print('{2}, {1} and {0}'.format('a', 'b', 'c'))\n",
        "# Saída: c, b and a\n",
        "\n",
        "print('{0}{1}{0}'.format('abra', 'cad'))\n",
        "# Saída: abracadabra\n",
        "data2 = '{:2d}/{:2d}/{:4d}'.format(dia, mes, ano)\n",
        "# A opção 'd' significa que o parâmetro é um número inteiro.\n",
        "print(data2)\n",
        "# Saída:  1/ 8/2019\n",
        "# Agora, dia e mês ocupam obrigatoriamente 2 espaços:  1/ 8/2019\n",
        "\n",
        "# Podemos forçar que os espaços em branco sejam preenchidos com o número 0:\n",
        "data3 = '{:02d}/{:02d}/{:04d}'.format(dia, mes, ano)\n",
        "print(data3)\n",
        "# Saída: 01/08/2019\n",
        "# Agora sim a data está no formato usual, dd/mm/aaaa: 01/08/2019\n",
        "\n",
        "# Um modo mais simples de utilizar o format\n",
        "nome = \"Pietro\"\n",
        "profissao = \"professor\"\n",
        "escola = \"Let's Code\"\n",
        "\n",
        "print(f\"{nome} é {profissao} da {escola}.\")\n",
        "# Saída: Pietro é professor da Let's Code."
      ]
    },
    {
      "cell_type": "markdown",
      "id": "fa0a3435",
      "metadata": {
        "id": "fa0a3435"
      },
      "source": [
        "O .format() possui muitas opções interessantes. Há um site inteiro dedicado a explicar e exemplificar todas essas opções: https://pyformat.info/"
      ]
    },
    {
      "cell_type": "code",
      "execution_count": 30,
      "id": "9f5df4b8",
      "metadata": {
        "colab": {
          "base_uri": "https://localhost:8080/"
        },
        "id": "9f5df4b8",
        "outputId": "7dac0279-fbe6-4c2f-acc5-89d93337f489"
      },
      "outputs": [
        {
          "output_type": "stream",
          "name": "stdout",
          "text": [
            "Olá Felipe\n"
          ]
        }
      ],
      "source": [
        "#Sem o uso do método .format\n",
        "cumprimento = \"Olá \"\n",
        "nome = \"Felipe\"\n",
        "print(cumprimento + nome)"
      ]
    },
    {
      "cell_type": "code",
      "execution_count": 31,
      "id": "b71f498f",
      "metadata": {
        "colab": {
          "base_uri": "https://localhost:8080/"
        },
        "id": "b71f498f",
        "outputId": "7f3722a3-7554-4e1a-f7ba-b34be552c891"
      },
      "outputs": [
        {
          "output_type": "stream",
          "name": "stdout",
          "text": [
            "Felipe tem 35 anos e 2 filhos\n"
          ]
        }
      ],
      "source": [
        "#usando o método .format\n",
        "nome = \"Felipe\"\n",
        "idade = 35\n",
        "n_filhos = 2\n",
        "print(\"{} tem {} anos e {} filhos\".format(nome,idade, n_filhos))"
      ]
    },
    {
      "cell_type": "code",
      "execution_count": 32,
      "id": "fce85fa3",
      "metadata": {
        "colab": {
          "base_uri": "https://localhost:8080/"
        },
        "id": "fce85fa3",
        "outputId": "b2c8a563-ca7e-4347-c550-6d03854e6aa2"
      },
      "outputs": [
        {
          "output_type": "stream",
          "name": "stdout",
          "text": [
            "O preço da gasolina hoje subiu e está em R$ 3.48\n"
          ]
        }
      ],
      "source": [
        "preco_gasolina = 3.476\n",
        "#format usando com duas casas decimais\n",
        "print(\"O preço da gasolina hoje subiu e está em R$ {:.2f}\".format(preco_gasolina))"
      ]
    },
    {
      "cell_type": "code",
      "execution_count": 33,
      "id": "e58d6886",
      "metadata": {
        "colab": {
          "base_uri": "https://localhost:8080/",
          "height": 35
        },
        "id": "e58d6886",
        "outputId": "ce5b99e0-fbcf-4d09-a944-f410bbbb89de"
      },
      "outputs": [
        {
          "output_type": "execute_result",
          "data": {
            "text/plain": [
              "'Felipe tem 35 anos e 2'"
            ],
            "application/vnd.google.colaboratory.intrinsic+json": {
              "type": "string"
            }
          },
          "metadata": {},
          "execution_count": 33
        }
      ],
      "source": [
        "#outra maneira\n",
        "f\"{nome} tem {idade} anos e {n_filhos}\""
      ]
    },
    {
      "cell_type": "markdown",
      "id": "7d826348",
      "metadata": {
        "id": "7d826348"
      },
      "source": [
        "Aula 04 - Dicionários"
      ]
    },
    {
      "cell_type": "markdown",
      "id": "a12b68e5",
      "metadata": {
        "id": "a12b68e5"
      },
      "source": [
        "Um dicionário é uma coleção, assim como as listas e as tuplas. Porém, enquanto as tuplas eram indexadas por um índice, os dicionários são indexados por chaves. Todo elemento em um dicionário possui uma chave e um valor. Chaves tipicamente são strings, valores podem ser qualquer tipo de dado."
      ]
    },
    {
      "cell_type": "code",
      "execution_count": 34,
      "id": "d4de3129",
      "metadata": {
        "colab": {
          "base_uri": "https://localhost:8080/"
        },
        "id": "d4de3129",
        "outputId": "cf163b92-395d-4200-cc0f-43481683c7b1"
      },
      "outputs": [
        {
          "output_type": "stream",
          "name": "stdout",
          "text": [
            "{'cat': 'gato', 'dog': 'cachorro', 'mouse': 'rato'}\n",
            "<class 'dict'>\n"
          ]
        }
      ],
      "source": [
        "# O dicionário é definido pelos símbolos { e }\n",
        "\n",
        "dicionario = {}\n",
        "\n",
        "# O dicionário não possui um \"append\".\n",
        "# Adicionamos valores diretamente:\n",
        "\n",
        "dicionario['cat'] = 'gato'\n",
        "dicionario['dog'] = 'cachorro'\n",
        "dicionario['mouse'] = 'rato'\n",
        "\n",
        "print(dicionario)\n",
        "print(type(dicionario))"
      ]
    },
    {
      "cell_type": "code",
      "execution_count": 35,
      "id": "d5f265f7",
      "metadata": {
        "colab": {
          "base_uri": "https://localhost:8080/"
        },
        "id": "d5f265f7",
        "outputId": "fdef7ae1-ee86-4ffa-df09-600b93017f5e"
      },
      "outputs": [
        {
          "output_type": "stream",
          "name": "stdout",
          "text": [
            "{'cat': 'gato', 'dog': 'cão', 'mouse': 'rato'}\n"
          ]
        }
      ],
      "source": [
        "# Dicionários, assim como as listas, são mutáveis:\n",
        "dicionario['dog'] = 'cão'\n",
        "print(dicionario)"
      ]
    },
    {
      "cell_type": "code",
      "execution_count": 36,
      "id": "cceec79b",
      "metadata": {
        "colab": {
          "base_uri": "https://localhost:8080/"
        },
        "id": "cceec79b",
        "outputId": "71ea2756-a6c6-406f-aa64-8243ffa8322e"
      },
      "outputs": [
        {
          "output_type": "stream",
          "name": "stdout",
          "text": [
            "{'Curso': 'Python Pro', 'Linguagem': 'Python', 'Módulo': 2}\n"
          ]
        }
      ],
      "source": [
        "# Podemos criar o dicionário diretamente também:\n",
        "dicionario2 = {'Curso': 'Python Pro', 'Linguagem':'Python', 'Módulo':2}\n",
        "print(dicionario2)\n",
        "# Saída: {'Curso': 'Python Pro', 'Linguagem': 'Python', 'Módulo': 2}"
      ]
    },
    {
      "cell_type": "code",
      "execution_count": 37,
      "id": "7217c29c",
      "metadata": {
        "colab": {
          "base_uri": "https://localhost:8080/"
        },
        "id": "7217c29c",
        "outputId": "e33378ca-f045-4b34-9f52-e486089edd5c"
      },
      "outputs": [
        {
          "output_type": "stream",
          "name": "stdout",
          "text": [
            "cat existe!\n"
          ]
        }
      ],
      "source": [
        "# Podemos utilizar o operador \"in\" para verificar se uma chave existe:\n",
        "if 'cat' in dicionario:\n",
        "    print('cat existe!') # Sim\n",
        "if 'bird' in dicionario:\n",
        "    print('bird existe!') # Não\n",
        "if 'gato' in dicionario:\n",
        "    print('gato existe!') # Não\n"
      ]
    },
    {
      "cell_type": "markdown",
      "id": "73bf295c",
      "metadata": {
        "id": "73bf295c"
      },
      "source": [
        "Também podemos utilizar as funções .keys() e .values() para obter listas\n",
        "com apenas as chaves ou apenas os valores do dicionário.\n"
      ]
    },
    {
      "cell_type": "code",
      "execution_count": 38,
      "id": "5465a025",
      "metadata": {
        "colab": {
          "base_uri": "https://localhost:8080/"
        },
        "id": "5465a025",
        "outputId": "62367410-4ae0-4e67-e4c5-64145470ec29"
      },
      "outputs": [
        {
          "output_type": "stream",
          "name": "stdout",
          "text": [
            "dict_keys(['cat', 'dog', 'mouse'])\n",
            "dict_values(['gato', 'cão', 'rato'])\n"
          ]
        }
      ],
      "source": [
        "chaves = dicionario.keys()\n",
        "print(chaves)\n",
        "# Saída: dict_keys(['cat', 'dog', 'mouse'])\n",
        "\n",
        "valores = dicionario.values()\n",
        "print(valores)"
      ]
    },
    {
      "cell_type": "code",
      "execution_count": 39,
      "id": "b6d1b735",
      "metadata": {
        "colab": {
          "base_uri": "https://localhost:8080/"
        },
        "id": "b6d1b735",
        "outputId": "2d138da1-7060-4cb9-fbf5-c285db13f160"
      },
      "outputs": [
        {
          "output_type": "stream",
          "name": "stdout",
          "text": [
            "dict_items([('cat', 'gato'), ('dog', 'cão'), ('mouse', 'rato')])\n"
          ]
        }
      ],
      "source": [
        "# Já a função .items(), retorna uma lista de tuplas (chave, valor) de um dicionário\n",
        "\n",
        "itens = dicionario.items()\n",
        "print(itens)"
      ]
    },
    {
      "cell_type": "code",
      "execution_count": 40,
      "id": "5cc97cf4",
      "metadata": {
        "id": "5cc97cf4"
      },
      "outputs": [],
      "source": [
        "dados_cidades= {\n",
        "    \"nome\": \"São Paulo\",\n",
        "    \"Estado\": \"São Paulo\",\n",
        "    \"area_km2\": 1521,\n",
        "    \"populacao_milhores\":12.18,\n",
        "}"
      ]
    },
    {
      "cell_type": "code",
      "execution_count": 41,
      "id": "f0111bc9",
      "metadata": {
        "colab": {
          "base_uri": "https://localhost:8080/"
        },
        "id": "f0111bc9",
        "outputId": "002d6361-e10b-4447-c058-e4df3ec0f379"
      },
      "outputs": [
        {
          "output_type": "stream",
          "name": "stdout",
          "text": [
            "<class 'dict'>\n"
          ]
        }
      ],
      "source": [
        "print(type(dados_cidades))"
      ]
    },
    {
      "cell_type": "code",
      "execution_count": 42,
      "id": "70fca2c2",
      "metadata": {
        "colab": {
          "base_uri": "https://localhost:8080/"
        },
        "id": "70fca2c2",
        "outputId": "8083da4e-45e5-45ea-dba4-14eb1219dac7"
      },
      "outputs": [
        {
          "output_type": "stream",
          "name": "stdout",
          "text": [
            "{'nome': 'São Paulo', 'Estado': 'São Paulo', 'area_km2': 1521, 'populacao_milhores': 12.18}\n"
          ]
        }
      ],
      "source": [
        "print(dados_cidades)"
      ]
    },
    {
      "cell_type": "code",
      "execution_count": 43,
      "id": "14dfb9e2",
      "metadata": {
        "id": "14dfb9e2"
      },
      "outputs": [],
      "source": [
        "#adicionando um par de chave no dicionario\n",
        "dados_cidades[\"país\"] = \"Brasil\""
      ]
    },
    {
      "cell_type": "code",
      "execution_count": 44,
      "id": "381e46c3",
      "metadata": {
        "colab": {
          "base_uri": "https://localhost:8080/"
        },
        "id": "381e46c3",
        "outputId": "e53a0388-b167-4851-fe0f-2ea2da71ced2"
      },
      "outputs": [
        {
          "output_type": "execute_result",
          "data": {
            "text/plain": [
              "{'Estado': 'São Paulo',\n",
              " 'area_km2': 1521,\n",
              " 'nome': 'São Paulo',\n",
              " 'país': 'Brasil',\n",
              " 'populacao_milhores': 12.18}"
            ]
          },
          "metadata": {},
          "execution_count": 44
        }
      ],
      "source": [
        "dados_cidades"
      ]
    },
    {
      "cell_type": "code",
      "execution_count": 45,
      "id": "c06d3391",
      "metadata": {
        "colab": {
          "base_uri": "https://localhost:8080/"
        },
        "id": "c06d3391",
        "outputId": "52d8f0b3-c68d-4d5b-9f8b-47a425303254"
      },
      "outputs": [
        {
          "output_type": "stream",
          "name": "stdout",
          "text": [
            "São Paulo\n"
          ]
        }
      ],
      "source": [
        "print(dados_cidades[\"nome\"])"
      ]
    },
    {
      "cell_type": "code",
      "execution_count": 46,
      "id": "0acab47c",
      "metadata": {
        "colab": {
          "base_uri": "https://localhost:8080/"
        },
        "id": "0acab47c",
        "outputId": "e26f30d8-b61e-4677-d1ce-0daf73995310"
      },
      "outputs": [
        {
          "output_type": "stream",
          "name": "stdout",
          "text": [
            "{'nome': 'São Paulo', 'Estado': 'São Paulo', 'area_km2': 1521, 'populacao_milhores': 12.18, 'país': 'Brasil', 'are_km2': 1500}\n"
          ]
        }
      ],
      "source": [
        "dados_cidades['are_km2']=1500\n",
        "print(dados_cidades)"
      ]
    },
    {
      "cell_type": "code",
      "execution_count": 47,
      "id": "32cdabf6",
      "metadata": {
        "id": "32cdabf6"
      },
      "outputs": [],
      "source": [
        "#criar um copia do dicionario\n",
        "dados_cidades_3 = dados_cidades.copy()"
      ]
    },
    {
      "cell_type": "code",
      "execution_count": 48,
      "id": "92a06fc9",
      "metadata": {
        "id": "92a06fc9"
      },
      "outputs": [],
      "source": [
        "dados_cidades_3['estado']=\"Manaus\""
      ]
    },
    {
      "cell_type": "code",
      "execution_count": 49,
      "id": "65f8782d",
      "metadata": {
        "colab": {
          "base_uri": "https://localhost:8080/"
        },
        "id": "65f8782d",
        "outputId": "b66fae08-aa16-44ee-872b-c41c18bc77da"
      },
      "outputs": [
        {
          "output_type": "stream",
          "name": "stdout",
          "text": [
            "{'nome': 'São Paulo', 'Estado': 'São Paulo', 'area_km2': 1521, 'populacao_milhores': 12.18, 'país': 'Brasil', 'are_km2': 1500, 'estado': 'Manaus'}\n"
          ]
        }
      ],
      "source": [
        "print(dados_cidades_3)"
      ]
    },
    {
      "cell_type": "code",
      "execution_count": 50,
      "id": "1d5c4435",
      "metadata": {
        "colab": {
          "base_uri": "https://localhost:8080/"
        },
        "id": "1d5c4435",
        "outputId": "003156ee-9cf0-433f-ad94-588bccb9caa3"
      },
      "outputs": [
        {
          "output_type": "stream",
          "name": "stdout",
          "text": [
            "{'nome': 'São Paulo', 'Estado': 'São Paulo', 'area_km2': 1521, 'populacao_milhores': 12.18, 'país': 'Brasil', 'are_km2': 1500}\n"
          ]
        }
      ],
      "source": [
        "print(dados_cidades)"
      ]
    },
    {
      "cell_type": "code",
      "execution_count": 51,
      "id": "0fd913f0",
      "metadata": {
        "colab": {
          "base_uri": "https://localhost:8080/"
        },
        "id": "0fd913f0",
        "outputId": "d2581e5d-2526-43c3-f5f3-fa686f87eba6"
      },
      "outputs": [
        {
          "output_type": "stream",
          "name": "stdout",
          "text": [
            "None\n"
          ]
        }
      ],
      "source": [
        "print(dados_cidades.get(\"prefeito\"))"
      ]
    },
    {
      "cell_type": "markdown",
      "id": "54b9e1b2",
      "metadata": {
        "id": "54b9e1b2"
      },
      "source": [
        "Aula 05 - Estruturas de Repetição - For"
      ]
    },
    {
      "cell_type": "markdown",
      "id": "6c298dad",
      "metadata": {
        "id": "6c298dad"
      },
      "source": [
        "Percorrendo coleções\n",
        "\n",
        "O for é um tipo especial de loop feito para percorrer elementos de uma coleção. Acima vimos exemplos usando um while e um contador para percorrer uma lista. O for elimina a necessidade de inicializarmos um contador, incrementarmos e verificar a condição de parada. Sintaxe:\n",
        "for (variável temporária) in (lista):\n",
        "    # instruções...\n",
        "    # ..."
      ]
    },
    {
      "cell_type": "markdown",
      "id": "ee08b5f1",
      "metadata": {
        "id": "ee08b5f1"
      },
      "source": [
        "O for se repete uma vez para cada elemento da lista. A cada repetição, a variável temporária assume o valor de um elemento da lista, na ordem da lista."
      ]
    },
    {
      "cell_type": "code",
      "execution_count": 52,
      "id": "c4733577",
      "metadata": {
        "colab": {
          "base_uri": "https://localhost:8080/"
        },
        "id": "c4733577",
        "outputId": "cf9516cb-8b45-4f50-e042-193908a30242"
      },
      "outputs": [
        {
          "output_type": "stream",
          "name": "stdout",
          "text": [
            "1\n",
            "1\n",
            "2\n",
            "3\n",
            "5\n",
            "8\n",
            "13\n"
          ]
        }
      ],
      "source": [
        "fib = [1, 1, 2, 3, 5, 8, 13]\n",
        "for elemento in fib:\n",
        "    print(elemento)"
      ]
    },
    {
      "cell_type": "code",
      "execution_count": 53,
      "id": "0cf3a689",
      "metadata": {
        "colab": {
          "base_uri": "https://localhost:8080/"
        },
        "id": "0cf3a689",
        "outputId": "54543aa9-6e1f-4e7a-a872-88286c5174e0"
      },
      "outputs": [
        {
          "output_type": "stream",
          "name": "stdout",
          "text": [
            "São Paulo\n",
            "Londres\n",
            "Toquio\n",
            "Paris\n"
          ]
        }
      ],
      "source": [
        "nomes_cidades = [\"São Paulo\", \"Londres\", \"Toquio\", \"Paris\"]\n",
        "for nomes in nomes_cidades:\n",
        "    print(nomes)"
      ]
    },
    {
      "cell_type": "code",
      "execution_count": 54,
      "id": "08fd0ad7",
      "metadata": {
        "colab": {
          "base_uri": "https://localhost:8080/"
        },
        "id": "08fd0ad7",
        "outputId": "c327dfbb-cbd8-46b9-be56-123087e1988a"
      },
      "outputs": [
        {
          "output_type": "stream",
          "name": "stdout",
          "text": [
            "São Paulo\n",
            "Londres\n",
            "Toquio\n",
            "Paris\n"
          ]
        }
      ],
      "source": [
        "#usando while\n",
        "contador=0\n",
        "nomes_cidades = [\"São Paulo\", \"Londres\", \"Toquio\", \"Paris\"]\n",
        "while contador < len(nomes_cidades):\n",
        "    print(nomes_cidades[contador])\n",
        "    contador = contador + 1"
      ]
    },
    {
      "cell_type": "code",
      "execution_count": 55,
      "id": "6b510efc",
      "metadata": {
        "colab": {
          "base_uri": "https://localhost:8080/"
        },
        "id": "6b510efc",
        "outputId": "0c3d2eaf-802f-4a2f-ac8d-5dfeb73203f2"
      },
      "outputs": [
        {
          "output_type": "stream",
          "name": "stdout",
          "text": [
            "São Paulo\n",
            "Londres\n",
            "Toquio\n",
            "Paris\n"
          ]
        }
      ],
      "source": [
        "nomes_cidades = [\"São Paulo\", \"Londres\", \"Toquio\", \"Paris\"]\n",
        "for nome in nomes_cidades:\n",
        "    print(nome)"
      ]
    },
    {
      "cell_type": "code",
      "execution_count": 56,
      "id": "c7be1f8e",
      "metadata": {
        "colab": {
          "base_uri": "https://localhost:8080/"
        },
        "id": "c7be1f8e",
        "outputId": "68168357-5b3c-4b0e-ce64-7a9f62a12b3d"
      },
      "outputs": [
        {
          "output_type": "stream",
          "name": "stdout",
          "text": [
            "nome: São Paulo \n",
            "estado: São Paulo \n",
            "populacao_milhoes: 12.2 \n"
          ]
        }
      ],
      "source": [
        "cidade = {\n",
        "    'nome': \"São Paulo\",\n",
        "    'estado': \"São Paulo\",\n",
        "    \"populacao_milhoes\": 12.2,\n",
        "}\n",
        "for chave in cidade:\n",
        "    print(f'{chave}: {cidade[chave]} ')"
      ]
    },
    {
      "cell_type": "code",
      "execution_count": 57,
      "id": "08b50d52",
      "metadata": {
        "colab": {
          "base_uri": "https://localhost:8080/"
        },
        "id": "08b50d52",
        "outputId": "69c21cf9-7b16-42b6-caf1-cfd9342fdf4e"
      },
      "outputs": [
        {
          "output_type": "stream",
          "name": "stdout",
          "text": [
            "['São Paulo', 'Londres', 'Toquio', 'Paris']\n"
          ]
        }
      ],
      "source": [
        "nomes_cidades = [\"São Paulo\", \"Londres\", \"Toquio\", \"Paris\"]\n",
        "for nome in nomes_cidades:\n",
        "    nome ='Rio de Janeiro'\n",
        "print(nomes_cidades)"
      ]
    },
    {
      "cell_type": "code",
      "execution_count": 58,
      "id": "cf25f88d",
      "metadata": {
        "colab": {
          "base_uri": "https://localhost:8080/"
        },
        "id": "cf25f88d",
        "outputId": "99f8fc9d-3ba8-4558-f3ff-675e69e35209"
      },
      "outputs": [
        {
          "output_type": "stream",
          "name": "stdout",
          "text": [
            "['Rio de Janeiro', 'Rio de Janeiro', 'Rio de Janeiro', 'Rio de Janeiro']\n"
          ]
        }
      ],
      "source": [
        "for posicao in range(len(nomes_cidades)):\n",
        "    nomes_cidades[posicao] = \"Rio de Janeiro\"\n",
        "print(nomes_cidades)"
      ]
    },
    {
      "cell_type": "code",
      "execution_count": 59,
      "id": "271a663a",
      "metadata": {
        "colab": {
          "base_uri": "https://localhost:8080/"
        },
        "id": "271a663a",
        "outputId": "64f3bf3c-cf8d-42ba-c303-edea78b43c8f"
      },
      "outputs": [
        {
          "output_type": "stream",
          "name": "stdout",
          "text": [
            "[0, 1, 2, 3, 4, 5, 6, 7, 8, 9]\n",
            "[2, 3, 4, 5, 6, 7, 8, 9]\n",
            "[2, 4, 6, 8]\n"
          ]
        }
      ],
      "source": [
        "print(list(range(10)))\n",
        "print(list(range(2,10)))\n",
        "print(list(range(2,10,2)))"
      ]
    },
    {
      "cell_type": "markdown",
      "id": "b5162e29",
      "metadata": {
        "id": "b5162e29"
      },
      "source": [
        "Percorrendo sequênciai numéricas\n",
        "o for pode ser usado, junto com a função range(), para gerar sequência numéricas e contagens. Existem 3 meio de usar o range(): especificando 1, 2, ou 3 parâmetros."
      ]
    },
    {
      "cell_type": "code",
      "execution_count": 60,
      "id": "366797cd",
      "metadata": {
        "colab": {
          "base_uri": "https://localhost:8080/"
        },
        "id": "366797cd",
        "outputId": "291018c2-25de-49d4-c54a-7a4c0422ebcd"
      },
      "outputs": [
        {
          "output_type": "stream",
          "name": "stdout",
          "text": [
            "0\n",
            "1\n",
            "2\n",
            "3\n",
            "4\n",
            "5\n",
            "6\n",
            "7\n",
            "8\n",
            "9\n"
          ]
        }
      ],
      "source": [
        "# Com 1 parâmetro, ele será interpretado como valor final (exclusivo).\n",
        "# O valor inicial será 0 e o incremento será 1.\n",
        "\n",
        "for numero in range(10):\n",
        "    print(numero)\n",
        "    # este exemplo imprime os números de 0 a 9, de um em um"
      ]
    },
    {
      "cell_type": "code",
      "execution_count": 61,
      "id": "7267b892",
      "metadata": {
        "colab": {
          "base_uri": "https://localhost:8080/"
        },
        "id": "7267b892",
        "outputId": "eae81fc9-e140-4133-ec69-6f13f15e4977"
      },
      "outputs": [
        {
          "output_type": "stream",
          "name": "stdout",
          "text": [
            "1\n",
            "2\n",
            "3\n",
            "4\n",
            "5\n",
            "6\n",
            "7\n",
            "8\n",
            "9\n",
            "10\n"
          ]
        }
      ],
      "source": [
        "# Com 2 parâmetros, o primeiro será o valor inicial (inclusivo) e o\n",
        "# segundo será o final (exclusivo).\n",
        "# O incremento continuará sendo 1.\n",
        "\n",
        "for numero in range(1,11):\n",
        "    print(numero)\n",
        "    # este exemplo imprime os números de 1 a 10, de um em um\n"
      ]
    },
    {
      "cell_type": "code",
      "execution_count": 62,
      "id": "2d1d8497",
      "metadata": {
        "colab": {
          "base_uri": "https://localhost:8080/"
        },
        "id": "2d1d8497",
        "outputId": "6a2f40c9-9599-4884-9f7d-20e3f7f9eab3"
      },
      "outputs": [
        {
          "output_type": "stream",
          "name": "stdout",
          "text": [
            "1\n",
            "3\n",
            "5\n",
            "7\n",
            "9\n",
            "11\n",
            "13\n",
            "15\n",
            "17\n",
            "19\n"
          ]
        }
      ],
      "source": [
        "# Com 3 parâmetros, o terceiro será interpretado como incremento.\n",
        "for numero in range(1,20,2):\n",
        "    print(numero)\n",
        "    # este exemplo imprime os ímpares positivos menores do que 20\n",
        "    # ele começa valendo 1 e salta de 2 em 2 até atingir ou passar 20"
      ]
    },
    {
      "cell_type": "code",
      "execution_count": 63,
      "id": "4ef08f89",
      "metadata": {
        "colab": {
          "base_uri": "https://localhost:8080/"
        },
        "id": "4ef08f89",
        "outputId": "8954acf1-c225-4762-f69f-e096f691b2a4"
      },
      "outputs": [
        {
          "output_type": "stream",
          "name": "stdout",
          "text": [
            "10\n",
            "9\n",
            "8\n",
            "7\n",
            "6\n",
            "5\n",
            "4\n",
            "3\n",
            "2\n",
            "1\n"
          ]
        }
      ],
      "source": [
        "# O incremento pode ser também um decremento (incremento negativo).\n",
        "for numero in range (10,0,-1):\n",
        "    print(numero)\n",
        "    #Imprimindo os números de 1 a 10 em ordem decrescente"
      ]
    },
    {
      "cell_type": "markdown",
      "id": "926b96c7",
      "metadata": {
        "id": "926b96c7"
      },
      "source": [
        "Aula 06 - Funções I"
      ]
    },
    {
      "cell_type": "markdown",
      "id": "d85e3bc9",
      "metadata": {
        "id": "d85e3bc9"
      },
      "source": [
        "Funções são uma espécie de \"subprograma\". Elas são como pequenos pedacinhos de programa que podem ser chamadas pelo nome. Para criar uma função usamos o comando \"def\" e o nome da função. Elas são um bloco de comando assim como if/elif/else, while e for."
      ]
    },
    {
      "cell_type": "code",
      "execution_count": 64,
      "id": "3d64eb77",
      "metadata": {
        "id": "3d64eb77"
      },
      "outputs": [],
      "source": [
        "def hello():\n",
        "    print(\"Olá, mundo!\")"
      ]
    },
    {
      "cell_type": "markdown",
      "id": "69ac13de",
      "metadata": {
        "id": "69ac13de"
      },
      "source": [
        "Quando uma função é chamada pelo nome, o fluxo do programa é interrompido. Em seguida, a função inteira é executada, e ao final dela, o programa volta a ser executado do mesmo ponto que parou."
      ]
    },
    {
      "cell_type": "code",
      "execution_count": 65,
      "id": "5d8dcce9",
      "metadata": {
        "colab": {
          "base_uri": "https://localhost:8080/"
        },
        "id": "5d8dcce9",
        "outputId": "098b4c80-b405-4e7a-b925-81149e86db3e"
      },
      "outputs": [
        {
          "output_type": "stream",
          "name": "stdout",
          "text": [
            "Olá, mundo!\n"
          ]
        }
      ],
      "source": [
        "hello()\n",
        "\n",
        "# Saída: Olá, mundo!"
      ]
    },
    {
      "cell_type": "markdown",
      "id": "b80ff3e2",
      "metadata": {
        "id": "b80ff3e2"
      },
      "source": [
        "É possível passarmos informações para uma função. Chamamos essas informações de \"parâmetros\" ou \"argumentos. Na definição da função, daremos nome a esses parâmetros. Dentro da função, eles serão tratados como se fossem variáveis."
      ]
    },
    {
      "cell_type": "code",
      "execution_count": 66,
      "id": "1b601064",
      "metadata": {
        "id": "1b601064"
      },
      "outputs": [],
      "source": [
        "def ola(nome):\n",
        "    print(\"Olá\", nome)"
      ]
    },
    {
      "cell_type": "markdown",
      "id": "3a96a94b",
      "metadata": {
        "id": "3a96a94b"
      },
      "source": [
        "Ao chamarmos a nossa funcao, passamos os parâmetros entre parênteses. O nome ou valor passado não precisam ser iguais aos declarados na função! O nome do parâmetro interno da função é um \"apelido\" que a função dará para o valor ou variável que passamos."
      ]
    },
    {
      "cell_type": "code",
      "execution_count": 67,
      "id": "201aa02c",
      "metadata": {
        "colab": {
          "base_uri": "https://localhost:8080/"
        },
        "id": "201aa02c",
        "outputId": "c9c6704d-2033-40b6-806d-e4d2eef46747"
      },
      "outputs": [
        {
          "output_type": "stream",
          "name": "stdout",
          "text": [
            "Olá Maria\n",
            "Olá João\n"
          ]
        }
      ],
      "source": [
        "ola(\"Maria\")\n",
        "# Saída: Olá, Maria\n",
        "\n",
        "aluno = \"João\"\n",
        "ola(aluno)\n",
        "# Saída: Olá, João"
      ]
    },
    {
      "cell_type": "markdown",
      "id": "5e44399e",
      "metadata": {
        "id": "5e44399e"
      },
      "source": [
        "A função pode receber vários parâmetros separados por vírgula."
      ]
    },
    {
      "cell_type": "code",
      "execution_count": 68,
      "id": "2c755941",
      "metadata": {
        "colab": {
          "base_uri": "https://localhost:8080/"
        },
        "id": "2c755941",
        "outputId": "3e23b549-f0aa-48f6-b1c8-96d4038d133e"
      },
      "outputs": [
        {
          "output_type": "stream",
          "name": "stdout",
          "text": [
            "Seu nome é José, você tem 30 anos e mora em Maceió.\n"
          ]
        }
      ],
      "source": [
        "def dadosPessoais(nome, idade, cidade):\n",
        "    print(\"Seu nome é {}, você tem {} anos e mora em {}.\".format(nome, idade, cidade))\n",
        "\n",
        "dadosPessoais(\"José\", 30, \"Maceió\")\n",
        "# Saída: Seu nome é José, você tem 30 anos e mora em Maceió."
      ]
    },
    {
      "cell_type": "markdown",
      "id": "c760237f",
      "metadata": {
        "id": "c760237f"
      },
      "source": [
        "Os parâmetros podem ser passados fora de ordem. Porém, para isso precisamos explicitar qual parâmetro estamos passando, para evitar ambiguidade ou erros de interpretação do Python."
      ]
    },
    {
      "cell_type": "code",
      "execution_count": 69,
      "id": "4e935d27",
      "metadata": {
        "colab": {
          "base_uri": "https://localhost:8080/"
        },
        "id": "4e935d27",
        "outputId": "81ea509e-c752-47bc-e717-1b139a18cd49"
      },
      "outputs": [
        {
          "output_type": "stream",
          "name": "stdout",
          "text": [
            "Seu nome é Ana, você tem 56 anos e mora em Florianópolis.\n"
          ]
        }
      ],
      "source": [
        "dadosPessoais(idade=56, cidade=\"Florianópolis\", nome=\"Ana\")\n",
        "# Saída: Seu nome é Ana, você tem 56 anos e mora em Florianópolis."
      ]
    },
    {
      "cell_type": "markdown",
      "id": "1429d90d",
      "metadata": {
        "id": "1429d90d"
      },
      "source": [
        "Funções com resposta\n",
        "\n",
        "Uma função pode ter uma \"resposta\". Por exemplo, nossa função pode ser uma conta, e o resultado da conta pode ser útil em nosso programa. Dizemos que essas funções \"retornam\" um valor. Utilizamos a palavra \"return\" para fazer uma função retornar sua resposta. Quando uma função retorna um valor, ela pode ser usada em expressões matemáticas ou lógicas, ter seu valor atribuído a uma variável, etc."
      ]
    },
    {
      "cell_type": "code",
      "execution_count": 70,
      "id": "1f467e9b",
      "metadata": {
        "colab": {
          "base_uri": "https://localhost:8080/",
          "height": 70
        },
        "id": "1f467e9b",
        "outputId": "d033d85a-5078-4525-f7c0-8591972dd07a"
      },
      "outputs": [
        {
          "output_type": "stream",
          "name": "stdout",
          "text": [
            "A soma dos elementos da lista vale:  15\n",
            "Que soma pequena!\n"
          ]
        },
        {
          "output_type": "execute_result",
          "data": {
            "text/plain": [
              "'\\nSaída:\\nA soma dos elementos da lista vale:  15\\nQue soma pequena!\\n'"
            ],
            "application/vnd.google.colaboratory.intrinsic+json": {
              "type": "string"
            }
          },
          "metadata": {},
          "execution_count": 70
        }
      ],
      "source": [
        "def somatorio(lista):\n",
        "    soma = 0\n",
        "    for item in lista:\n",
        "        soma = soma + item\n",
        "    return soma\n",
        "\n",
        "numeros = [1, 2, 3, 4, 5]\n",
        "soma_dos_numeros = somatorio(numeros)\n",
        "print(\"A soma dos elementos da lista vale: \", soma_dos_numeros)\n",
        "\n",
        "if somatorio(numeros) > 50:\n",
        "    print(\"Que soma grande!\")\n",
        "else:\n",
        "    print(\"Que soma pequena!\")\n",
        "    \n",
        "'''\n",
        "Saída:\n",
        "A soma dos elementos da lista vale:  15\n",
        "Que soma pequena!\n",
        "'''"
      ]
    },
    {
      "cell_type": "markdown",
      "id": "9d5decad",
      "metadata": {
        "id": "9d5decad"
      },
      "source": [
        "Funções recursivas\n",
        "\n",
        "Algumas funções são chamadas funções recursivas. A recursividade (ou recursão) é uma propriedade na qual uma função faz referência a si mesma. Quando a função encontra uma nova referência, ela irá pausar sua execução atual e iniciar a execução da nova instância, para só então retomar sua execução.\n",
        "\n",
        "Assim como nos loops, é necessário ter alguma condição para que as chamadas recursivas sejam interrompidas, evitando que executem para sempre."
      ]
    },
    {
      "cell_type": "code",
      "execution_count": 71,
      "id": "e8efc5f8",
      "metadata": {
        "colab": {
          "base_uri": "https://localhost:8080/"
        },
        "id": "e8efc5f8",
        "outputId": "89a3d233-bae1-44bc-ca6f-44c896777029"
      },
      "outputs": [
        {
          "output_type": "stream",
          "name": "stdout",
          "text": [
            "Testando a função recursiva:\n",
            "1\n",
            "2\n",
            "3\n",
            "4\n",
            "5\n",
            "6\n",
            "7\n",
            "8\n",
            "9\n",
            "10\n"
          ]
        }
      ],
      "source": [
        "def funcaoRecursiva(numero):\n",
        "    if (numero != 1):\n",
        "        funcaoRecursiva(numero - 1)\n",
        "    print(numero)\n",
        "\n",
        "print(\"Testando a função recursiva:\")\n",
        "funcaoRecursiva(10)"
      ]
    },
    {
      "cell_type": "markdown",
      "id": "6cabe180",
      "metadata": {
        "id": "6cabe180"
      },
      "source": [
        "Note que no exemplo acima passamos 10 para a função. Sua execução foi interrompida por uma nova chamada passando 9, depois 8, depois 7... Ao chegar em 1, ele foge da condicional e imprime 1, encerrando a execução. Então a instância que recebeu 2 tambem conclui sua execução, depois a chamada 3, a 4... A 10, que foi a 1a chamada, encerra por último.\n",
        "\n",
        "Dizemos que é um comportamento de pilha - exatamente como uma pilha de pratos sobre a mesa: O primeiro prato que foi colocado sobre a mesa será o último a sair, pois todos os pratos colocados sobre ele precisam ser retirados antes de você poder retirar o último.\n",
        "\n",
        "Problemas recursivos normalmente são problemas do tipo \"dividir para conquistar\": Temos um \"caso base\", ou seja, um ou mais casos onde há uma resposta direta; E temos um \"caso geral\", que é uma versão reduzida do problema original."
      ]
    },
    {
      "cell_type": "markdown",
      "id": "079de3df",
      "metadata": {
        "id": "079de3df"
      },
      "source": [
        "Outros exemplos:"
      ]
    },
    {
      "cell_type": "code",
      "execution_count": 72,
      "id": "e61e8352",
      "metadata": {
        "id": "e61e8352"
      },
      "outputs": [],
      "source": [
        "def calcula_media(valor1, valor2, valor3):\n",
        "    soma = valor1 + valor2 + valor3\n",
        "    media = soma/3\n",
        "    return media"
      ]
    },
    {
      "cell_type": "code",
      "execution_count": 73,
      "id": "861f0456",
      "metadata": {
        "colab": {
          "base_uri": "https://localhost:8080/"
        },
        "id": "861f0456",
        "outputId": "fd2d317c-60e7-4ab6-be38-025fd08ef2ec"
      },
      "outputs": [
        {
          "output_type": "stream",
          "name": "stdout",
          "text": [
            "Resultado: 10.0\n"
          ]
        }
      ],
      "source": [
        "resultado = calcula_media(10,10,10)\n",
        "print(\"Resultado:\", resultado)"
      ]
    },
    {
      "cell_type": "code",
      "execution_count": 74,
      "id": "15f8c906",
      "metadata": {
        "id": "15f8c906"
      },
      "outputs": [],
      "source": [
        "resultado2 = calcula_media(valor1=9,valor2=10, valor3=9)"
      ]
    },
    {
      "cell_type": "code",
      "execution_count": 75,
      "id": "423cd315",
      "metadata": {
        "colab": {
          "base_uri": "https://localhost:8080/"
        },
        "id": "423cd315",
        "outputId": "79ab0ca4-28c2-478c-b431-6f467d684192"
      },
      "outputs": [
        {
          "output_type": "stream",
          "name": "stdout",
          "text": [
            "9.333333333333334\n"
          ]
        }
      ],
      "source": [
        "print(resultado2)\n"
      ]
    },
    {
      "cell_type": "code",
      "execution_count": 76,
      "id": "4340583f",
      "metadata": {
        "colab": {
          "base_uri": "https://localhost:8080/"
        },
        "id": "4340583f",
        "outputId": "b679724f-2744-4581-b4ff-aa05de3f534f"
      },
      "outputs": [
        {
          "output_type": "stream",
          "name": "stdout",
          "text": [
            "Olá, Pietro\n"
          ]
        }
      ],
      "source": [
        "print(\"Olá\", end='')\n",
        "print(', Pietro')"
      ]
    },
    {
      "cell_type": "code",
      "execution_count": 77,
      "id": "bb490a9c",
      "metadata": {
        "id": "bb490a9c"
      },
      "outputs": [],
      "source": [
        "def calcula_media2(valor1=0,valor2=0,valor3=0):\n",
        "    soma = valor1 + valor2 + valor3\n",
        "    media = soma/3\n",
        "    return media\n",
        "    "
      ]
    },
    {
      "cell_type": "code",
      "execution_count": 78,
      "id": "a23326ba",
      "metadata": {
        "colab": {
          "base_uri": "https://localhost:8080/"
        },
        "id": "a23326ba",
        "outputId": "efa99bf9-c213-4531-f6b9-d4de2199a1a6"
      },
      "outputs": [
        {
          "output_type": "stream",
          "name": "stdout",
          "text": [
            "10.0\n"
          ]
        }
      ],
      "source": [
        "resultado4 = calcula_media2()\n",
        "print(resultado)"
      ]
    },
    {
      "cell_type": "markdown",
      "id": "4f43ab7e",
      "metadata": {
        "id": "4f43ab7e"
      },
      "source": [
        "Aula 07 - Funções II"
      ]
    },
    {
      "cell_type": "markdown",
      "id": "69577f15",
      "metadata": {
        "id": "69577f15"
      },
      "source": [
        "Agrupando parâmetros\n",
        "\n",
        "Podemos utilizar o operador * - que, neste caso, não será uma multiplicação. Ao colocarmos o * ao lado do nome de um parâmetro na definição da função, estamos dizendo que aquele argumento será uma coleção. Mais especificamente, uma tupla. Porém, o usuário não irá passar uma tupla. Ele irá passar quantos argumentos ele quiser, e o Python automaticamente criará uma tupla com eles:"
      ]
    },
    {
      "cell_type": "code",
      "execution_count": 79,
      "id": "3f1b288b",
      "metadata": {
        "colab": {
          "base_uri": "https://localhost:8080/"
        },
        "id": "3f1b288b",
        "outputId": "53364cfc-f2f0-47f4-b868-1a62e7a74280"
      },
      "outputs": [
        {
          "output_type": "stream",
          "name": "stdout",
          "text": [
            "O volume é:  100\n"
          ]
        }
      ],
      "source": [
        "def piscina(*infos):\n",
        "    vol = infos[0]*infos[1]*infos[2]\n",
        "    return vol\n",
        "\n",
        "volume = piscina(5, 4, 5)\n",
        "\n",
        "print('O volume é: ', volume)"
      ]
    },
    {
      "cell_type": "markdown",
      "id": "92131dda",
      "metadata": {
        "id": "92131dda"
      },
      "source": [
        "Podemos utilizar o operador * na chamada da função também. Na definição, o operador * indica que devemos agrupar itens avulsos em uma coleção. Na chamada, ele indica que uma coleção deve ser expandida em itens avulsos:"
      ]
    },
    {
      "cell_type": "code",
      "execution_count": 80,
      "id": "63a4abf4",
      "metadata": {
        "colab": {
          "base_uri": "https://localhost:8080/"
        },
        "id": "63a4abf4",
        "outputId": "e0f6833e-1709-458f-de4c-9a9b9c31c328"
      },
      "outputs": [
        {
          "output_type": "stream",
          "name": "stdout",
          "text": [
            "O volume é:  100\n"
          ]
        }
      ],
      "source": [
        "def piscina(prof, largura, comprimento):\n",
        "    vol = prof*largura*comprimento\n",
        "    return vol\n",
        "\n",
        "lista = [5, 4, 5]\n",
        "\n",
        "volume = piscina(*lista)\n",
        "\n",
        "print('O volume é: ', volume)"
      ]
    },
    {
      "cell_type": "markdown",
      "id": "2a576ace",
      "metadata": {
        "id": "2a576ace"
      },
      "source": [
        "Parâmetros opcionais\n",
        "\n",
        "Outra possibilidade são funções com parâmetros opcionais. Note que isso é diferente de termos quantidade variável de parâmetros. No caso da quantidade variável, normalmente são diversos parâmetros com a mesma utilidade (números a serem somados, valores a serem exibidos etc), enquanto os parâmetros opcionais são informações distintas que podem ou não ser passadas para a função.\n",
        "\n",
        "Para criar parâmetros opcionais, usaremos **, e os parâmetros passados serão agrupados em um dicionário: o nome do parâmetro será uma chave, e o valor será... O valor."
      ]
    },
    {
      "cell_type": "code",
      "execution_count": 81,
      "id": "8bfea487",
      "metadata": {
        "colab": {
          "base_uri": "https://localhost:8080/"
        },
        "id": "8bfea487",
        "outputId": "3c60b8ad-6cfc-4c57-f2b5-ce7ae3ff713a"
      },
      "outputs": [
        {
          "output_type": "stream",
          "name": "stdout",
          "text": [
            "O volume é:  100\n"
          ]
        }
      ],
      "source": [
        "def piscina(prof, **infos):\n",
        "    vol = prof*infos['largura']*infos['comprimento']\n",
        "    return vol\n",
        "\n",
        "volume = piscina(5, largura=4, comprimento=5)\n",
        "\n",
        "print('O volume é: ', volume)"
      ]
    },
    {
      "cell_type": "markdown",
      "id": "be4261a6",
      "metadata": {
        "id": "be4261a6"
      },
      "source": [
        "Analogamente ao caso dos parâmetros múltiplos, é possível que o usuário da função já tenha os dados organizados em um dicionário. Neste caso, basta usar ** na chamada da função para expandir o dicionário em vários parâmetros opcionais:"
      ]
    },
    {
      "cell_type": "code",
      "execution_count": 82,
      "id": "f8d92f0e",
      "metadata": {
        "colab": {
          "base_uri": "https://localhost:8080/"
        },
        "id": "f8d92f0e",
        "outputId": "023cfb92-29de-44aa-d8c0-eaa6e964422e"
      },
      "outputs": [
        {
          "output_type": "stream",
          "name": "stdout",
          "text": [
            "O volume é:  1000\n"
          ]
        }
      ],
      "source": [
        "def piscina(prof, largura=4, comprimento=5):\n",
        "    vol = prof*largura*comprimento\n",
        "    return vol\n",
        "\n",
        "infos = {'largura': 10, 'comprimento': 20}\n",
        "\n",
        "volume = piscina(5, **infos)\n",
        "\n",
        "print('O volume é: ', volume)"
      ]
    },
    {
      "cell_type": "markdown",
      "id": "36a8f656",
      "metadata": {
        "id": "36a8f656"
      },
      "source": [
        "Outros exemplos"
      ]
    },
    {
      "cell_type": "code",
      "execution_count": 83,
      "id": "bb66e29f",
      "metadata": {
        "id": "bb66e29f"
      },
      "outputs": [],
      "source": [
        "#args é so uma convesão, pode ser qualquer palavra\n",
        "def calcular_media(*args):\n",
        "    print(args, type(args))"
      ]
    },
    {
      "cell_type": "code",
      "execution_count": 84,
      "id": "889a4e44",
      "metadata": {
        "colab": {
          "base_uri": "https://localhost:8080/"
        },
        "id": "889a4e44",
        "outputId": "90efe87d-5828-4564-f7f5-561ed2283751"
      },
      "outputs": [
        {
          "output_type": "stream",
          "name": "stdout",
          "text": [
            "(10, 8, 9) <class 'tuple'>\n"
          ]
        }
      ],
      "source": [
        "calcular_media(10,8,9)"
      ]
    },
    {
      "cell_type": "code",
      "execution_count": 85,
      "id": "ef82e427",
      "metadata": {
        "id": "ef82e427"
      },
      "outputs": [],
      "source": [
        "def calcular_media(*args, margem):\n",
        "    soma = sum(args)\n",
        "    media = soma/len(args)\n",
        "    return media + margem"
      ]
    },
    {
      "cell_type": "code",
      "execution_count": 87,
      "id": "f3254983",
      "metadata": {
        "colab": {
          "base_uri": "https://localhost:8080/"
        },
        "id": "f3254983",
        "outputId": "f47e5402-ad09-4e52-e6e7-aaccd928a356"
      },
      "outputs": [
        {
          "output_type": "execute_result",
          "data": {
            "text/plain": [
              "9.0"
            ]
          },
          "metadata": {},
          "execution_count": 87
        }
      ],
      "source": [
        "calcula_media(10,8,9)"
      ]
    },
    {
      "cell_type": "code",
      "execution_count": 88,
      "id": "6fc49783",
      "metadata": {
        "id": "6fc49783"
      },
      "outputs": [],
      "source": [
        "#akwargs apenas um convesao, pode ser qql nome\n",
        "def print_info(**kwargs):\n",
        "    print(kwargs, type(kwargs))"
      ]
    },
    {
      "cell_type": "code",
      "execution_count": 89,
      "id": "562e9d65",
      "metadata": {
        "colab": {
          "base_uri": "https://localhost:8080/"
        },
        "id": "562e9d65",
        "outputId": "c3a7d9c0-dbbd-46c7-ea1e-c65bc89a205c"
      },
      "outputs": [
        {
          "output_type": "stream",
          "name": "stdout",
          "text": [
            "{'nome': 'Pietro', 'Sobrenome': 'Soares'} <class 'dict'>\n"
          ]
        }
      ],
      "source": [
        "print_info(nome='Pietro', Sobrenome='Soares')"
      ]
    }
  ],
  "metadata": {
    "kernelspec": {
      "display_name": "Python 3 (ipykernel)",
      "language": "python",
      "name": "python3"
    },
    "language_info": {
      "codemirror_mode": {
        "name": "ipython",
        "version": 3
      },
      "file_extension": ".py",
      "mimetype": "text/x-python",
      "name": "python",
      "nbconvert_exporter": "python",
      "pygments_lexer": "ipython3",
      "version": "3.9.7"
    },
    "colab": {
      "name": "Python Avançado - Estudo da Lets Code.ipynb",
      "provenance": [],
      "include_colab_link": true
    }
  },
  "nbformat": 4,
  "nbformat_minor": 5
}
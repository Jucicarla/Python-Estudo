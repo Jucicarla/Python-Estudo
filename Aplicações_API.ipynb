{
  "nbformat": 4,
  "nbformat_minor": 0,
  "metadata": {
    "colab": {
      "name": "Aplicações_API.ipynb",
      "provenance": [],
      "collapsed_sections": [],
      "authorship_tag": "ABX9TyPcFZgPR3hb6NR6yaqOJAKd",
      "include_colab_link": true
    },
    "kernelspec": {
      "name": "python3",
      "display_name": "Python 3"
    },
    "language_info": {
      "name": "python"
    }
  },
  "cells": [
    {
      "cell_type": "markdown",
      "metadata": {
        "id": "view-in-github",
        "colab_type": "text"
      },
      "source": [
        "<a href=\"https://colab.research.google.com/github/Jucicarla/Python-Estudo/blob/main/Aplica%C3%A7%C3%B5es_API.ipynb\" target=\"_parent\"><img src=\"https://colab.research.google.com/assets/colab-badge.svg\" alt=\"Open In Colab\"/></a>"
      ]
    },
    {
      "cell_type": "markdown",
      "source": [
        "## Aula 03 - APIs - Application Programming Interface"
      ],
      "metadata": {
        "id": "N54eN7sm03Ri"
      }
    },
    {
      "cell_type": "markdown",
      "source": [
        "Hoje em dia é muito comum que diferentes aplicações consumam dados pela internet, muitas vezes dados providenciados por terceiros. Por exemplo, um aplicativo de entrega de alimentos pode usar dados de geolocalização do Google para localizar restaurantes próximos ao usuário e exibir a rota percorrida pelo entregador.\n",
        "\n",
        "Como as aplicações podem rodar em diferentes plataformas (Windows, Android, MacOS, iOS, um navegador de internet...), é importante estabelecer uma linguagem comum para que todos consigam consumir esses dados.\n",
        "\n",
        "Essa \"linguagem comum\" é o que chamamos de API: Application Programming Interface. A organização que disponibiliza os dados estabelece algumas \"regrinhas\" para fazermos requisições, e em contrapartida ela garante que os recursos fornecidos também seguirão certos padrões, facilitando a vida dos programadores.\n",
        "\n",
        "Portanto, quando decidimos utilizar uma API, a primeira coisa que precisamos fazer é estudar sua documentação. Vejamos alguns dos pontos mais relevantes para procurar.\n",
        "\n",
        "Todos os exemplos de requisição que mostraremos aqui podem ser colados em seu navegador ou estudados usando um requests.get no Python e imprimindo seu campo text."
      ],
      "metadata": {
        "id": "t7Ymt0-e1WrI"
      }
    },
    {
      "cell_type": "markdown",
      "source": [
        "# URI base\n",
        "\n",
        "Várias APIs fornecem um \"endereço base\". Todas as suas requisições incluirão esse endereço, e ao final dele nós colocamos detalhes específicos para cada um dos recursos disponíveis.\n",
        "\n",
        "Por exemplo, na AlphaVantage (https://www.alphavantage.co/), uma API de dados de bolsas de valores e criptomoedas, a URI base é:\n",
        "\n",
        "https://www.alphavantage.co/query?\n",
        "\n",
        "Após a interrogação nós colocaremos os campos para nossa consulta. Por exemplo, para fazer uma consulta sem autenticação para valores da IBM, de 5 em 5 minutos, o endereço completo fica:\n",
        "\n",
        "https://www.alphavantage.co/query?function=TIME_SERIES_INTRADAY&symbol=IBM&interval=5min&apikey=demo\n",
        "\n",
        "Note o formato com &NomeDoCampo=ValorDoCampo. Ele é bastante comum. Outro formato bastante comum é o de \"subdiretórios\".\n",
        "\n",
        "Um exemplo é a PokéAPI. A URI base é:\n",
        "\n",
        "https://pokeapi.co/api/v2/\n",
        "\n",
        "Para procurar por pokémons, adicionamos pokemon/. Em seguida, podemos colocar números (índices) ou nomes de Pokémon, como:\n",
        "\n",
        "https://pokeapi.co/api/v2/pokemon/ditto/\n",
        "\n",
        "https://pokeapi.co/api/v2/pokemon/25\n",
        "\n",
        "Se ao invés de pokémons estivéssemos interessados em tipos de pokémon, usaríamos types/ e o nome ou índice do tipo desejado:\n",
        "\n",
        "https://pokeapi.co/api/v2/type/ghost\n"
      ],
      "metadata": {
        "id": "eUhIpPDF1Y2o"
      }
    },
    {
      "cell_type": "markdown",
      "source": [
        "# Formato\n",
        "\n",
        "Tipo de dado\n",
        "\n",
        "Algumas APIs possuem formatos fixos de dados. Outros permitem que você escolha. É comum, por exemplo, que uma API permita que você escolha entre JSON, XML, CSV e/ou outros formatos.\n",
        "\n",
        "Caso você tenha entrado no AlphaVantage e se registrado para obter uma chave (falaremos mais adiante), você pode especificar, por exemplo, que gostaria de resultados no formato CSV:\n",
        "\n",
        "https://www.alphavantage.co/query?function=TIME_SERIES_INTRADAY&symbol=IBM&interval=5min&dataformat=csv&apikey=demo\n",
        "\n",
        "Substitua \"demo\" por sua chave no exemplo acima e ele funcionará."
      ],
      "metadata": {
        "id": "g-vvQIxW1hJo"
      }
    },
    {
      "cell_type": "markdown",
      "source": [
        "# Schema\n",
        "\n",
        "É bastante comum que as APIs disponibilizem um \"modelo\" genérico de como será formatado o seu JSON, XML etc para que os desenvolvedores saibam quais campos esperar e quais tipos de dados serão possíveis para cada campo. Por exemplo:\n",
        "\n",
        "\n",
        "{\n",
        "  \n",
        "    'nome':string,\n",
        "\n",
        "    'pontuacao':integer\n",
        "}\n"
      ],
      "metadata": {
        "id": "jWAaLSNN1n-Y"
      }
    },
    {
      "cell_type": "markdown",
      "source": [
        "# Autenticação\n",
        "\n",
        "Outro aspecto importante é a autenticação. Enquanto algumas APIs são grátis, outras são pagas. Ainda temos algumas híbridas: você pode gratuitamente acessar certos recursos, ou consumir um certo volume de dados, e acima disso você deverá pagar. Os dois modelos mais comuns de autenticação:\n",
        "\n",
        "    Chave: ao fazer seu registro, você recebe uma chave que será inclusa na requisição, como é o caso do AlphaVantage.\n",
        "    \n",
        "    OAuth: um esquema um pouco mais complexo onde são combinados códigos de autorização, identificação do cliente e segredo do cliente em um POST, e o servidor cria uma sessão por um tempo limitado e fornece o ID da mesma. APIs de gigantes da internet (como Google e Facebook) costumam usar esse modelo.\n"
      ],
      "metadata": {
        "id": "HewALigw1ukn"
      }
    },
    {
      "cell_type": "markdown",
      "source": [
        "# Rate limiting\n",
        "\n",
        "Um dado parcialmente relacionado ao item anterior. As APIs costumam limitar o número de requisições que você pode fazer em um instante de tempo (3 requisições por minuto, 10000 requisições por dia etc). Temos dois motivos:\n",
        "\n",
        "    Segurança: evitar uma sobrecarga no servidor deles que possa indisponibilizar a API para todos os usuários.\n",
        "    \n",
        "    Venda de planos: várias APIs pagas possuem diferentes planos de pagamento. Os planos mais caros costumam permitir mais requisições do que os mais baratos ou gratuitos.\n"
      ],
      "metadata": {
        "id": "ARo6gq4Y11gQ"
      }
    },
    {
      "cell_type": "markdown",
      "source": [
        "# Wrappers\n",
        "\n",
        "Algumas APIs possuem tantas buscas diferentes e os resultados podem ser tão complexos que mesmo vindo em formatos simples como JSON pode ser um pouco trabalhoso montar as requisições e isolar os dados que queremos. Por conta disso, frequentemente são fornecidas wrapper libraries: bibliotecas escritas em linguagens de programação específicas que já trazem classes e funções prontas para fazer requisições automaticamente e já quebrar o resultado em objetos fáceis de serem utilizados. Elas também costumam oferecer alguns benefícios adicionais, como caching: de tempos em tempos a base de dados é totalmente ou parcialmente baixada por completo e salva localmente, o que ajuda a economizar requisições e, consequentemente, uso de dados (bastante útil considerando em usuários de dispositivos móveis, por exemplo)."
      ],
      "metadata": {
        "id": "HDLURxut18V_"
      }
    },
    {
      "cell_type": "markdown",
      "source": [
        "# Sandbox\n",
        "\n",
        "Várias APIs possuem no mesmo site de sua documentação uma área conhecida como sandbox, onde você pode simular requisições no próprio navegador e ver não só a resposta formatada, como informações sobre como montar aquela requisição em software.\n",
        "\n",
        "Aqui podemos observar a área de sandbox para fazer consultas de gastos por meio de cartão de pagamento do Portal da Transparência do governo federal. Note que ele mostra o schema e apresenta campos para preenchermos as buscas."
      ],
      "metadata": {
        "id": "pMEk7h5n2Pbf"
      }
    },
    {
      "cell_type": "markdown",
      "source": [
        "# Consumindo APIs em Python\n",
        "\n",
        "As APIs são meios de nos conectarmos a recursos na internet. Portanto, já possuímos as ferramentas na mão desde os capítulos anteriores. Você irá construir a lógica para decidir o que você irá buscar/consultar, montará uma string seguindo o formato indicado pela documentação da API (como todos os exemplos deste capítulo). Em seguida você tratará a resposta de acordo:\n",
        "\n",
        "    Se for JSON, utilize o método json da própria requests.\n",
        "    Se for CSV, utilize o módulo CSV estudado anteriormente.\n",
        "    Se for XML, podemos utilizar o módulo BeautifulSoup, que não será estudado aqui.\n",
        "    Para outros formatos, provavelmente a solução mais fácil será baixar um módulo preparado para lidar com eles.\n",
        "\n",
        "        Descobrindo APIs: tem boas ideias e gostaria de saber se existe uma boa API para ajudar? Confira alguns bons repositórios de API organizados por categoria:\n",
        "\n",
        "        https://github.com/n0shake/public-apis\n",
        "\n",
        "        https://github.com/public-apis/public-apis\n",
        "\n",
        "        https://any-api.com/\n",
        "\n",
        "        Sites de governos costumam ter uma grande riqueza de dados também. Segue abaixo algumas sugestões (oficiais ou mantidas por voluntários) com dados do Brasil como um todo. Experimente buscar por bases de dados de sua cidade ou estado!\n",
        "\n",
        "        http://www.transparencia.gov.br/swagger-ui.html\n",
        "\n",
        "        http://www.dados.gov.br/\n",
        "\n",
        "        https://brasil.io/home/\n",
        "\n"
      ],
      "metadata": {
        "id": "bH3CZM1P2u_3"
      }
    },
    {
      "cell_type": "markdown",
      "source": [
        "# Exemplo:\n",
        "\n",
        "Conversão de moedas usando API\n",
        "\n",
        "Documentação da Exchange Rate API: \n",
        "\n",
        "disponível em https://www.exchangerate-api.com/docs/free"
      ],
      "metadata": {
        "id": "OjrVxQSx3deH"
      }
    },
    {
      "cell_type": "markdown",
      "source": [
        "API"
      ],
      "metadata": {
        "id": "9xyhYk5N353J"
      }
    },
    {
      "cell_type": "code",
      "execution_count": 2,
      "metadata": {
        "colab": {
          "base_uri": "https://localhost:8080/"
        },
        "id": "Phxc9lzd00wb",
        "outputId": "3fba6411-b635-4c6a-e1b4-5e5da7ef171f"
      },
      "outputs": [
        {
          "output_type": "stream",
          "name": "stdout",
          "text": [
            "Looking in indexes: https://pypi.org/simple, https://us-python.pkg.dev/colab-wheels/public/simple/\n",
            "Requirement already satisfied: requests in /usr/local/lib/python3.7/dist-packages (2.23.0)\n",
            "Requirement already satisfied: chardet<4,>=3.0.2 in /usr/local/lib/python3.7/dist-packages (from requests) (3.0.4)\n",
            "Requirement already satisfied: urllib3!=1.25.0,!=1.25.1,<1.26,>=1.21.1 in /usr/local/lib/python3.7/dist-packages (from requests) (1.24.3)\n",
            "Requirement already satisfied: certifi>=2017.4.17 in /usr/local/lib/python3.7/dist-packages (from requests) (2022.6.15)\n",
            "Requirement already satisfied: idna<3,>=2.5 in /usr/local/lib/python3.7/dist-packages (from requests) (2.10)\n"
          ]
        }
      ],
      "source": [
        "#instalação do pacote\n",
        "!pip install requests"
      ]
    },
    {
      "cell_type": "code",
      "source": [
        "#biblioteca\n",
        "import requests"
      ],
      "metadata": {
        "id": "CrNGwwKx32BH"
      },
      "execution_count": 3,
      "outputs": []
    },
    {
      "cell_type": "code",
      "source": [
        "#definição de chamada da API\n",
        "url =\"https://api.exchangerate-api.com/v6/latest\"\n",
        "\n",
        "requisicao = requests.get(url)\n",
        "#verificar o codigo de status 200\n",
        "print(requisicao.status_code)"
      ],
      "metadata": {
        "colab": {
          "base_uri": "https://localhost:8080/"
        },
        "id": "YT7V2ZF14Cvk",
        "outputId": "18132336-8e64-40fc-9cfa-929982aff898"
      },
      "execution_count": 5,
      "outputs": [
        {
          "output_type": "stream",
          "name": "stdout",
          "text": [
            "200\n"
          ]
        }
      ]
    },
    {
      "cell_type": "code",
      "source": [
        "#Recuperar os dados na requisição\n",
        "dados = requisicao.json()\n",
        "\n",
        "print(dados)"
      ],
      "metadata": {
        "colab": {
          "base_uri": "https://localhost:8080/"
        },
        "id": "5Bt1yWSO4cSH",
        "outputId": "6cd96605-f72d-4dbe-8ea3-400c38007852"
      },
      "execution_count": 15,
      "outputs": [
        {
          "output_type": "stream",
          "name": "stdout",
          "text": [
            "{'result': 'success', 'provider': 'https://www.exchangerate-api.com', 'documentation': 'https://www.exchangerate-api.com/docs/free', 'terms_of_use': 'https://www.exchangerate-api.com/terms', 'time_last_update_unix': 1657843351, 'time_last_update_utc': 'Fri, 15 Jul 2022 00:02:31 +0000', 'time_next_update_unix': 1657930941, 'time_next_update_utc': 'Sat, 16 Jul 2022 00:22:21 +0000', 'time_eol_unix': 0, 'base_code': 'USD', 'rates': {'USD': 1, 'AED': 3.67, 'AFN': 88.09, 'ALL': 116.99, 'AMD': 412.32, 'ANG': 1.79, 'AOA': 432.86, 'ARS': 127.71, 'AUD': 1.48, 'AWG': 1.79, 'AZN': 1.7, 'BAM': 1.95, 'BBD': 2, 'BDT': 93.31, 'BGN': 1.95, 'BHD': 0.376, 'BIF': 2032.62, 'BMD': 1, 'BND': 1.4, 'BOB': 6.87, 'BRL': 5.43, 'BSD': 1, 'BTN': 79.82, 'BWP': 12.85, 'BYN': 2.95, 'BZD': 2, 'CAD': 1.31, 'CDF': 1994.32, 'CHF': 0.984, 'CLP': 1010.82, 'CNY': 6.75, 'COP': 4562.4, 'CRC': 687.62, 'CUP': 24, 'CVE': 110.11, 'CZK': 24.41, 'DJF': 177.72, 'DKK': 7.45, 'DOP': 54.78, 'DZD': 147.25, 'EGP': 18.88, 'ERN': 15, 'ETB': 51.97, 'EUR': 0.999, 'FJD': 2.23, 'FKP': 0.846, 'FOK': 7.45, 'GBP': 0.846, 'GEL': 2.85, 'GGP': 0.846, 'GHS': 8.25, 'GIP': 0.846, 'GMD': 53.94, 'GNF': 8643.29, 'GTQ': 7.75, 'GYD': 208.42, 'HKD': 7.85, 'HNL': 24.58, 'HRK': 7.52, 'HTG': 116.64, 'HUF': 405.98, 'IDR': 15012.18, 'ILS': 3.5, 'IMP': 0.846, 'INR': 79.82, 'IQD': 1454.06, 'IRR': 42000.18, 'ISK': 138.48, 'JEP': 0.846, 'JMD': 151.55, 'JOD': 0.709, 'JPY': 138.94, 'KES': 118.38, 'KGS': 81.33, 'KHR': 4065.71, 'KID': 1.48, 'KMF': 491.26, 'KRW': 1316.75, 'KWD': 0.3, 'KYD': 0.833, 'KZT': 478.89, 'LAK': 16523.17, 'LBP': 1507.5, 'LKR': 359.27, 'LRD': 152.4, 'LSL': 17.15, 'LYD': 4.86, 'MAD': 9.98, 'MDL': 19.31, 'MGA': 4087.91, 'MKD': 61.13, 'MMK': 1837.97, 'MNT': 3130.73, 'MOP': 8.09, 'MRU': 36.77, 'MUR': 44.61, 'MVR': 15.46, 'MWK': 1031.93, 'MXN': 20.86, 'MYR': 4.43, 'MZN': 64.37, 'NAD': 17.15, 'NGN': 414.94, 'NIO': 35.9, 'NOK': 10.25, 'NPR': 127.71, 'NZD': 1.64, 'OMR': 0.384, 'PAB': 1, 'PEN': 3.95, 'PGK': 3.52, 'PHP': 56.4, 'PKR': 209.65, 'PLN': 4.8, 'PYG': 6864.21, 'QAR': 3.64, 'RON': 4.93, 'RSD': 117.08, 'RUB': 58.47, 'RWF': 1052.94, 'SAR': 3.75, 'SBD': 8.02, 'SCR': 13.08, 'SDG': 487.75, 'SEK': 10.59, 'SGD': 1.4, 'SHP': 0.846, 'SLL': 13157.3, 'SOS': 576.29, 'SRD': 22.39, 'SSP': 538.2, 'STN': 24.46, 'SYP': 2525.86, 'SZL': 17.15, 'THB': 36.58, 'TJS': 10.46, 'TMT': 3.5, 'TND': 2.96, 'TOP': 2.34, 'TRY': 17.47, 'TTD': 6.77, 'TVD': 1.48, 'TWD': 29.86, 'TZS': 2331.29, 'UAH': 30.8, 'UGX': 3762.53, 'UYU': 40.36, 'UZS': 10890, 'VES': 5.68, 'VND': 23403.99, 'VUV': 119.29, 'WST': 2.73, 'XAF': 655.01, 'XCD': 2.7, 'XDR': 0.764, 'XOF': 655.01, 'XPF': 119.16, 'YER': 250.22, 'ZAR': 17.15, 'ZMW': 16.42, 'ZWL': 392.22}}\n"
          ]
        }
      ]
    },
    {
      "cell_type": "code",
      "source": [
        "#Recuperar valores reais para converter em dólar\n",
        "valor_reais = float(input(\"Informe o valor em R$ a ser convertido\\n\"))\n",
        "cotacao = dados[\"rates\"][\"BRL\"]\n",
        "print(f'R$ {valor_reais} em dolar valem US${(valor_reais / cotacao):.2f}')"
      ],
      "metadata": {
        "colab": {
          "base_uri": "https://localhost:8080/"
        },
        "id": "vRzsRwrt4n48",
        "outputId": "e3adc007-a784-4063-c5e1-41618c48a8fc"
      },
      "execution_count": 16,
      "outputs": [
        {
          "output_type": "stream",
          "name": "stdout",
          "text": [
            "Informe o valor em R$ a ser convertido\n",
            "100\n",
            "R$ 100.0 em dolar valem US$18.42\n"
          ]
        }
      ]
    }
  ]
}